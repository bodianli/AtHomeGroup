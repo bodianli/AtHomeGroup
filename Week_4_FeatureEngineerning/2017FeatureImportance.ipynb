{
 "cells": [
  {
   "cell_type": "code",
   "execution_count": 2,
   "metadata": {},
   "outputs": [
    {
     "name": "stderr",
     "output_type": "stream",
     "text": [
      "C:\\Users\\Bodian\\OneDrive\\PYTHON\\lib\\site-packages\\statsmodels\\tools\\_testing.py:19: FutureWarning: pandas.util.testing is deprecated. Use the functions in the public API at pandas.testing instead.\n",
      "  import pandas.util.testing as tm\n"
     ]
    }
   ],
   "source": [
    "import pandas as pd\n",
    "import numpy as np\n",
    "from sklearn.model_selection import train_test_split\n",
    "from sklearn.preprocessing import StandardScaler\n",
    "import math\n",
    "import sklearn.metrics as sklm\n",
    "import sklearn.model_selection as GridSearchCV\n",
    "from sklearn.linear_model import Ridge\n",
    "import sklearn.model_selection as ms\n",
    "import seaborn as sns\n",
    "import matplotlib.pyplot as plt\n",
    "\n",
    "sale_2017 = pd.read_csv(\"../Week_4_FeatureEngineerning/2017_Sale.csv\")\n",
    "\n",
    "\n",
    "# Fill Null value and filter unknown sales\n",
    "sale_2017[['Pickup_InStore', 'Pickup_Curbside', 'Local_Delivery']] = sale_2017[\n",
    "    ['Pickup_InStore', 'Pickup_Curbside', 'Local_Delivery']].fillna(0)\n",
    "\n",
    "sale_2017.dropna(subset=['2017_sale'], inplace=True)\n",
    "# print (sale_2017.shape)\n"
   ]
  },
  {
   "cell_type": "code",
   "execution_count": 11,
   "metadata": {},
   "outputs": [],
   "source": [
    "cols_input = [\n",
    "    \"Pickup_InStore\",\n",
    "    \"Pickup_Curbside\",\n",
    "    \"Local_Delivery\",\n",
    "    \"POPESTIMATE2017\",\n",
    "    \"NPOPCHG_2017\",\n",
    "    \"BIRTHS2017\",\n",
    "    \"DEATHS2017\",\n",
    "    \"NATURALINC2017\",\n",
    "    \"INTERNATIONALMIG2017\",\n",
    "    \"DOMESTICMIG2017\",\n",
    "    \"NETMIG2017\",\n",
    "    \"RBIRTH2017\",\n",
    "    \"RDEATH2017\",\n",
    "    \"RNATURALINC2017\",\n",
    "    \"RINTERNATIONALMIG2017\",\n",
    "    \"RDOMESTICMIG2017\",\n",
    "    \"RNETMIG2017\",\n",
    "]\n",
    "\n",
    "# print (sale_2017[cols_input].isnull().sum())\n",
    "\n",
    "X_train_all = sale_2017[cols_input]\n",
    "Y_train_All = sale_2017['2017_sale']\n",
    "\n",
    "# Scalar of 2017 Sale\n",
    "# sale_2017['2017_scaler'] = (Y_train_All-Y_train_All.mean())/(Y_train_All.std())\n",
    "x_train, x_valid, y_train, y_valid = train_test_split(sale_2017[cols_input],\n",
    "                                                    sale_2017['2017_sale'],\n",
    "                                                    test_size=.5,\n",
    "                                                    random_state=42)"
   ]
  },
  {
   "cell_type": "code",
   "execution_count": 12,
   "metadata": {},
   "outputs": [],
   "source": [
    "# Scalar\n",
    "scaler  = StandardScaler()\n",
    "scaler.fit(X_train_all)\n",
    "x_train_tf = scaler.transform(x_train)\n",
    "x_valid_tf = scaler.transform(x_valid)"
   ]
  },
  {
   "cell_type": "code",
   "execution_count": 13,
   "metadata": {},
   "outputs": [],
   "source": [
    "from sklearn.metrics import mean_absolute_error, mean_squared_error, mean_squared_log_error, r2_score\n",
    "\n",
    "def print_report(y_actual, y_pred):\n",
    "    r_squared = r2_score(y_actual, y_pred)\n",
    "    MAE = mean_absolute_error(y_actual, y_pred)\n",
    "    MSE = mean_squared_error(y_actual, y_pred)\n",
    "#    MSLE = mean_squared_log_error(y_actual, y_pred)\n",
    "    \n",
    "    print('R^2:%.3f'%r_squared)\n",
    "    print('MAE:%.3f'%MAE)\n",
    "    print('MSE:%.3f'%MSE)\n",
    "#    print('MSLE:%.3f'%MSLE)\n",
    "    print(' ')\n",
    "    return r_squared, MAE, MSE"
   ]
  },
  {
   "cell_type": "markdown",
   "metadata": {},
   "source": [
    "## Random Forest - Feature Importance"
   ]
  },
  {
   "cell_type": "code",
   "execution_count": 27,
   "metadata": {},
   "outputs": [
    {
     "name": "stderr",
     "output_type": "stream",
     "text": [
      "C:\\Users\\Bodian\\OneDrive\\PYTHON\\lib\\site-packages\\sklearn\\ensemble\\forest.py:245: FutureWarning: The default value of n_estimators will change from 10 in version 0.20 to 100 in 0.22.\n",
      "  \"10 in version 0.20 to 100 in 0.22.\", FutureWarning)\n"
     ]
    },
    {
     "data": {
      "text/plain": [
       "RandomForestClassifier(bootstrap=True, class_weight=None, criterion='gini',\n",
       "                       max_depth=6, max_features='auto', max_leaf_nodes=None,\n",
       "                       min_impurity_decrease=0.0, min_impurity_split=None,\n",
       "                       min_samples_leaf=1, min_samples_split=2,\n",
       "                       min_weight_fraction_leaf=0.0, n_estimators=10,\n",
       "                       n_jobs=None, oob_score=False, random_state=42, verbose=0,\n",
       "                       warm_start=False)"
      ]
     },
     "execution_count": 27,
     "metadata": {},
     "output_type": "execute_result"
    }
   ],
   "source": [
    "from sklearn.ensemble import RandomForestClassifier\n",
    "rf=RandomForestClassifier(max_depth = 6, random_state = 42)\n",
    "rf.fit(x_train_tf, y_train)"
   ]
  },
  {
   "cell_type": "code",
   "execution_count": null,
   "metadata": {},
   "outputs": [],
   "source": [
    "y_train_preds = rf.predict(x_train_tf)\n",
    "y_valid_preds = rf.predict(x_valid_tf)\n",
    "\n",
    "print('Training:')\n",
    "sgdc_train_r_squared,sgdc_train_MAE,sgdc_train_MSE, sgdc_train_MSLE = print_report(y_train,y_train_preds)\n",
    "print('Validation:')\n",
    "sgdc_train_r_squared, sgdc_train_MAE,sgdc_train_MSE, sgdc_train_MSLE = print_report(y_valid,y_valid_preds)"
   ]
  },
  {
   "cell_type": "code",
   "execution_count": 28,
   "metadata": {},
   "outputs": [],
   "source": [
    "feature_importances = pd.DataFrame(rf.feature_importances_,\n",
    "                                   index = cols_input,\n",
    "                                    columns=['importance']).sort_values('importance',\n",
    "                                                                        ascending=False)"
   ]
  },
  {
   "cell_type": "code",
   "execution_count": 29,
   "metadata": {},
   "outputs": [
    {
     "data": {
      "image/png": "[encoded data removed]",
      "text/plain": [
       "<Figure size 320x320 with 1 Axes>"
      ]
     },
     "metadata": {},
     "output_type": "display_data"
    }
   ],
   "source": [
    "num = np.min([50, len(cols_input)])\n",
    "ylocs = np.arange(num)\n",
    "# get the feature importance for top num and sort in reverse order\n",
    "values_to_plot = feature_importances.iloc[:num].values.ravel()[::-1]\n",
    "feature_labels = list(feature_importances.iloc[:num].index)[::-1]\n",
    "\n",
    "plt.figure(num=None, figsize=(4, 4), dpi=80, facecolor='w', edgecolor='k');\n",
    "plt.barh(ylocs, values_to_plot, align = 'center')\n",
    "plt.ylabel('Features',)\n",
    "plt.xlabel('Importance Score')\n",
    "plt.title('2017 Feature Importance Score - Random Forest')\n",
    "plt.yticks(ylocs, feature_labels)\n",
    "plt.show()"
   ]
  },
  {
   "cell_type": "markdown",
   "metadata": {},
   "source": [
    "## KNN"
   ]
  },
  {
   "cell_type": "code",
   "execution_count": 215,
   "metadata": {},
   "outputs": [
    {
     "data": {
      "text/plain": [
       "KNeighborsRegressor(algorithm='auto', leaf_size=30, metric='minkowski',\n",
       "                    metric_params=None, n_jobs=None, n_neighbors=5, p=2,\n",
       "                    weights='distance')"
      ]
     },
     "execution_count": 215,
     "metadata": {},
     "output_type": "execute_result"
    }
   ],
   "source": [
    "from sklearn import neighbors\n",
    "knn= neighbors.KNeighborsRegressor(5, weights='distance')\n",
    "knn.fit(x_train_tf, y_train)"
   ]
  },
  {
   "cell_type": "code",
   "execution_count": 216,
   "metadata": {},
   "outputs": [
    {
     "name": "stdout",
     "output_type": "stream",
     "text": [
      "KNN\n",
      "Training:\n",
      "R^2:0.983\n",
      "MAE:171202.098\n",
      "MSE:211081393243.069\n",
      " \n",
      "Validation:\n",
      "R^2:-0.045\n",
      "MAE:2701532.021\n",
      "MSE:11394289799221.592\n",
      " \n"
     ]
    }
   ],
   "source": [
    "y_train_preds = knn.predict(x_train_tf)\n",
    "y_valid_preds = knn.predict(x_valid_tf)\n",
    "\n",
    "print('KNN')\n",
    "print('Training:')\n",
    "knn_train_r_squared, knn_train_MAE, knn_train_MSE = print_report(y_train,y_train_preds)\n",
    "print('Validation:')\n",
    "knn_valid_r_squared, knn_valid_MAE, knn_valid_MSE = print_report(y_valid,y_valid_preds)"
   ]
  },
  {
   "cell_type": "markdown",
   "metadata": {},
   "source": [
    "## Linear Regression"
   ]
  },
  {
   "cell_type": "code",
   "execution_count": 6,
   "metadata": {},
   "outputs": [
    {
     "data": {
      "text/plain": [
       "LinearRegression(copy_X=True, fit_intercept=True, n_jobs=None, normalize=False)"
      ]
     },
     "execution_count": 6,
     "metadata": {},
     "output_type": "execute_result"
    }
   ],
   "source": [
    "from sklearn.linear_model import LinearRegression\n",
    "lr=LinearRegression()\n",
    "lr.fit(x_train_tf, y_train)"
   ]
  },
  {
   "cell_type": "code",
   "execution_count": 7,
   "metadata": {},
   "outputs": [
    {
     "name": "stdout",
     "output_type": "stream",
     "text": [
      "Linear Regression\n",
      "Training:\n",
      "R^2:0.295\n",
      "MAE:0.659\n",
      "MSE:0.746\n",
      " \n",
      "Validation:\n",
      "R^2:-77753.402\n",
      "MAE:37.756\n",
      "MSE:70546.733\n",
      " \n"
     ]
    }
   ],
   "source": [
    "y_train_preds = lr.predict(x_train_tf)\n",
    "y_valid_preds = lr.predict(x_valid_tf)\n",
    "\n",
    "print('Linear Regression')\n",
    "\n",
    "print('Training:')\n",
    "lr_train_r_squared,lr_train_MAE,lr_train_MSE = print_report(y_train,y_train_preds)\n",
    "print('Validation:')\n",
    "lr_train_r_squared, lr_train_MAE,lr_train_MSE = print_report(y_valid,y_valid_preds)"
   ]
  },
  {
   "cell_type": "code",
   "execution_count": 9,
   "metadata": {},
   "outputs": [],
   "source": [
    "feature_importances = pd.DataFrame(lr.coef_[0],\n",
    "                                   index = cols_input,\n",
    "                                    columns=['importance']).sort_values('importance',\n",
    "                                                                        ascending=False)"
   ]
  },
  {
   "cell_type": "code",
   "execution_count": 10,
   "metadata": {},
   "outputs": [
    {
     "data": {
      "text/html": [
       "<div>\n",
       "<style scoped>\n",
       "    .dataframe tbody tr th:only-of-type {\n",
       "        vertical-align: middle;\n",
       "    }\n",
       "\n",
       "    .dataframe tbody tr th {\n",
       "        vertical-align: top;\n",
       "    }\n",
       "\n",
       "    .dataframe thead th {\n",
       "        text-align: right;\n",
       "    }\n",
       "</style>\n",
       "<table border=\"1\" class=\"dataframe\">\n",
       "  <thead>\n",
       "    <tr style=\"text-align: right;\">\n",
       "      <th></th>\n",
       "      <th>importance</th>\n",
       "    </tr>\n",
       "  </thead>\n",
       "  <tbody>\n",
       "    <tr>\n",
       "      <th>Pickup_InStore</th>\n",
       "      <td>0.000065</td>\n",
       "    </tr>\n",
       "    <tr>\n",
       "      <th>DOMESTICMIG2017</th>\n",
       "      <td>0.000065</td>\n",
       "    </tr>\n",
       "    <tr>\n",
       "      <th>RDOMESTICMIG2017</th>\n",
       "      <td>0.000065</td>\n",
       "    </tr>\n",
       "    <tr>\n",
       "      <th>RINTERNATIONALMIG2017</th>\n",
       "      <td>0.000065</td>\n",
       "    </tr>\n",
       "    <tr>\n",
       "      <th>RNATURALINC2017</th>\n",
       "      <td>0.000065</td>\n",
       "    </tr>\n",
       "  </tbody>\n",
       "</table>\n",
       "</div>"
      ],
      "text/plain": [
       "                       importance\n",
       "Pickup_InStore           0.000065\n",
       "DOMESTICMIG2017          0.000065\n",
       "RDOMESTICMIG2017         0.000065\n",
       "RINTERNATIONALMIG2017    0.000065\n",
       "RNATURALINC2017          0.000065"
      ]
     },
     "execution_count": 10,
     "metadata": {},
     "output_type": "execute_result"
    }
   ],
   "source": [
    "feature_importances.head()"
   ]
  },
  {
   "cell_type": "code",
   "execution_count": 8,
   "metadata": {},
   "outputs": [
    {
     "data": {
      "text/plain": [
       "array([ 0.00000000e+00,  8.61406651e+02,  1.63222464e-01, -7.92928152e-07,\n",
       "        7.58998212e-04, -3.32271332e+01,  3.32272056e+01,  3.32264102e+01,\n",
       "       -1.00319063e+00, -1.00320536e+00,  1.00245237e+00, -1.57946865e+05,\n",
       "        1.57946864e+05,  1.57946861e+05, -1.49242758e+06, -1.49242759e+06,\n",
       "        1.49242759e+06])"
      ]
     },
     "execution_count": 8,
     "metadata": {},
     "output_type": "execute_result"
    }
   ],
   "source": [
    "lr.coef_"
   ]
  },
  {
   "cell_type": "markdown",
   "metadata": {},
   "source": [
    "## Logistic Regression"
   ]
  },
  {
   "cell_type": "code",
   "execution_count": 121,
   "metadata": {},
   "outputs": [
    {
     "name": "stderr",
     "output_type": "stream",
     "text": [
      "C:\\Users\\Bodian\\OneDrive\\PYTHON\\lib\\site-packages\\sklearn\\linear_model\\logistic.py:432: FutureWarning: Default solver will be changed to 'lbfgs' in 0.22. Specify a solver to silence this warning.\n",
      "  FutureWarning)\n",
      "C:\\Users\\Bodian\\OneDrive\\PYTHON\\lib\\site-packages\\sklearn\\linear_model\\logistic.py:469: FutureWarning: Default multi_class will be changed to 'auto' in 0.22. Specify the multi_class option to silence this warning.\n",
      "  \"this warning.\", FutureWarning)\n"
     ]
    },
    {
     "data": {
      "text/plain": [
       "LogisticRegression(C=1.0, class_weight=None, dual=False, fit_intercept=True,\n",
       "                   intercept_scaling=1, l1_ratio=None, max_iter=100,\n",
       "                   multi_class='warn', n_jobs=None, penalty='l2',\n",
       "                   random_state=42, solver='warn', tol=0.0001, verbose=0,\n",
       "                   warm_start=False)"
      ]
     },
     "execution_count": 121,
     "metadata": {},
     "output_type": "execute_result"
    }
   ],
   "source": [
    "from sklearn.linear_model import LogisticRegression\n",
    "lr=LogisticRegression(random_state = 42)\n",
    "lr.fit(x_train_tf, y_train)"
   ]
  },
  {
   "cell_type": "code",
   "execution_count": 122,
   "metadata": {},
   "outputs": [],
   "source": [
    "feature_importances = pd.DataFrame(lr.coef_[0],\n",
    "                                   index = cols_input,\n",
    "                                    columns=['importance']).sort_values('importance',\n",
    "                                                                        ascending=False)"
   ]
  },
  {
   "cell_type": "code",
   "execution_count": 123,
   "metadata": {
    "scrolled": true
   },
   "outputs": [
    {
     "data": {
      "text/html": [
       "<div>\n",
       "<style scoped>\n",
       "    .dataframe tbody tr th:only-of-type {\n",
       "        vertical-align: middle;\n",
       "    }\n",
       "\n",
       "    .dataframe tbody tr th {\n",
       "        vertical-align: top;\n",
       "    }\n",
       "\n",
       "    .dataframe thead th {\n",
       "        text-align: right;\n",
       "    }\n",
       "</style>\n",
       "<table border=\"1\" class=\"dataframe\">\n",
       "  <thead>\n",
       "    <tr style=\"text-align: right;\">\n",
       "      <th></th>\n",
       "      <th>importance</th>\n",
       "    </tr>\n",
       "  </thead>\n",
       "  <tbody>\n",
       "    <tr>\n",
       "      <th>RDOMESTICMIG2017</th>\n",
       "      <td>0.172149</td>\n",
       "    </tr>\n",
       "    <tr>\n",
       "      <th>RNETMIG2017</th>\n",
       "      <td>0.117728</td>\n",
       "    </tr>\n",
       "    <tr>\n",
       "      <th>RESIDUAL2017</th>\n",
       "      <td>0.097540</td>\n",
       "    </tr>\n",
       "    <tr>\n",
       "      <th>Local_Delivery</th>\n",
       "      <td>0.047953</td>\n",
       "    </tr>\n",
       "    <tr>\n",
       "      <th>DEATHS2017</th>\n",
       "      <td>0.033316</td>\n",
       "    </tr>\n",
       "  </tbody>\n",
       "</table>\n",
       "</div>"
      ],
      "text/plain": [
       "                  importance\n",
       "RDOMESTICMIG2017    0.172149\n",
       "RNETMIG2017         0.117728\n",
       "RESIDUAL2017        0.097540\n",
       "Local_Delivery      0.047953\n",
       "DEATHS2017          0.033316"
      ]
     },
     "execution_count": 123,
     "metadata": {},
     "output_type": "execute_result"
    }
   ],
   "source": [
    "feature_importances.head()"
   ]
  },
  {
   "cell_type": "markdown",
   "metadata": {},
   "source": [
    "## Random Forest"
   ]
  },
  {
   "cell_type": "code",
   "execution_count": 131,
   "metadata": {},
   "outputs": [
    {
     "name": "stdout",
     "output_type": "stream",
     "text": [
      "Training:\n",
      "R^2:0.442\n",
      "MAE:1225539.472\n",
      "MSE:6611392630674.750\n",
      "MSLE:0.071\n",
      " \n",
      "Validation:\n",
      "R^2:-2.583\n",
      "MAE:4368342.968\n",
      "MSE:32319799748154.000\n",
      "MSLE:0.470\n",
      " \n"
     ]
    }
   ],
   "source": [
    "y_train_preds = rf.predict(x_train_tf)\n",
    "y_valid_preds = rf.predict(x_valid_tf)\n",
    "\n",
    "print('Training:')\n",
    "sgdc_train_r_squared,sgdc_train_MAE,sgdc_train_MSE, sgdc_train_MSLE = print_report(y_train,y_train_preds)\n",
    "print('Validation:')\n",
    "sgdc_train_r_squared, sgdc_train_MAE,sgdc_train_MSE, sgdc_train_MSLE = print_report(y_valid,y_valid_preds)"
   ]
  },
  {
   "cell_type": "code",
   "execution_count": 190,
   "metadata": {},
   "outputs": [],
   "source": [
    "import sklearn.tree"
   ]
  },
  {
   "cell_type": "code",
   "execution_count": 9,
   "metadata": {
    "scrolled": false
   },
   "outputs": [
    {
     "name": "stderr",
     "output_type": "stream",
     "text": [
      "C:\\Users\\Bodian\\OneDrive\\PYTHON\\lib\\site-packages\\sklearn\\linear_model\\coordinate_descent.py:475: ConvergenceWarning: Objective did not converge. You might want to increase the number of iterations. Duality gap: 1.4867396393454153, tolerance: 0.0003922729756992689\n",
      "  positive)\n",
      "C:\\Users\\Bodian\\OneDrive\\PYTHON\\lib\\site-packages\\sklearn\\linear_model\\coordinate_descent.py:475: ConvergenceWarning: Objective did not converge. You might want to increase the number of iterations. Duality gap: 1.4592917829358834, tolerance: 0.0003715184205052297\n",
      "  positive)\n",
      "C:\\Users\\Bodian\\OneDrive\\PYTHON\\lib\\site-packages\\sklearn\\linear_model\\coordinate_descent.py:475: ConvergenceWarning: Objective did not converge. You might want to increase the number of iterations. Duality gap: 1.5017116791203955, tolerance: 0.0003793023724488836\n",
      "  positive)\n",
      "C:\\Users\\Bodian\\OneDrive\\PYTHON\\lib\\site-packages\\sklearn\\linear_model\\coordinate_descent.py:475: ConvergenceWarning: Objective did not converge. You might want to increase the number of iterations. Duality gap: 1.4315186872755807, tolerance: 0.0003519333594836212\n",
      "  positive)\n",
      "C:\\Users\\Bodian\\OneDrive\\PYTHON\\lib\\site-packages\\sklearn\\linear_model\\coordinate_descent.py:475: ConvergenceWarning: Objective did not converge. You might want to increase the number of iterations. Duality gap: 1.382097967785366, tolerance: 0.0003533484525187073\n",
      "  positive)\n",
      "C:\\Users\\Bodian\\OneDrive\\PYTHON\\lib\\site-packages\\sklearn\\linear_model\\coordinate_descent.py:475: ConvergenceWarning: Objective did not converge. You might want to increase the number of iterations. Duality gap: 1.4783868210129565, tolerance: 0.00038081794113787004\n",
      "  positive)\n",
      "C:\\Users\\Bodian\\OneDrive\\PYTHON\\lib\\site-packages\\sklearn\\linear_model\\coordinate_descent.py:475: ConvergenceWarning: Objective did not converge. You might want to increase the number of iterations. Duality gap: 1.4778804516597759, tolerance: 0.00037718002791136784\n",
      "  positive)\n",
      "C:\\Users\\Bodian\\OneDrive\\PYTHON\\lib\\site-packages\\sklearn\\linear_model\\coordinate_descent.py:475: ConvergenceWarning: Objective did not converge. You might want to increase the number of iterations. Duality gap: 1.3242984755931084, tolerance: 0.0003719892849371932\n",
      "  positive)\n",
      "C:\\Users\\Bodian\\OneDrive\\PYTHON\\lib\\site-packages\\sklearn\\linear_model\\coordinate_descent.py:475: ConvergenceWarning: Objective did not converge. You might want to increase the number of iterations. Duality gap: 1.4595787995590264, tolerance: 0.0003749734222865311\n",
      "  positive)\n",
      "C:\\Users\\Bodian\\OneDrive\\PYTHON\\lib\\site-packages\\sklearn\\linear_model\\coordinate_descent.py:475: ConvergenceWarning: Objective did not converge. You might want to increase the number of iterations. Duality gap: 1.38497068507794, tolerance: 0.00036158236001053776\n",
      "  positive)\n",
      "C:\\Users\\Bodian\\OneDrive\\PYTHON\\lib\\site-packages\\sklearn\\linear_model\\coordinate_descent.py:475: ConvergenceWarning: Objective did not converge. You might want to increase the number of iterations. Duality gap: 1.3882535679238501, tolerance: 0.0003399457435924181\n",
      "  positive)\n",
      "C:\\Users\\Bodian\\OneDrive\\PYTHON\\lib\\site-packages\\sklearn\\linear_model\\coordinate_descent.py:475: ConvergenceWarning: Objective did not converge. You might want to increase the number of iterations. Duality gap: 1.5000370382334431, tolerance: 0.00038225511631795155\n",
      "  positive)\n",
      "C:\\Users\\Bodian\\OneDrive\\PYTHON\\lib\\site-packages\\sklearn\\linear_model\\coordinate_descent.py:475: ConvergenceWarning: Objective did not converge. You might want to increase the number of iterations. Duality gap: 1.4604202473842813, tolerance: 0.0003491126429711619\n",
      "  positive)\n",
      "C:\\Users\\Bodian\\OneDrive\\PYTHON\\lib\\site-packages\\sklearn\\linear_model\\coordinate_descent.py:475: ConvergenceWarning: Objective did not converge. You might want to increase the number of iterations. Duality gap: 1.5283186370656194, tolerance: 0.00038333897620980087\n",
      "  positive)\n",
      "C:\\Users\\Bodian\\OneDrive\\PYTHON\\lib\\site-packages\\sklearn\\linear_model\\coordinate_descent.py:475: ConvergenceWarning: Objective did not converge. You might want to increase the number of iterations. Duality gap: 1.4611422277636839, tolerance: 0.0003771239087883089\n",
      "  positive)\n",
      "C:\\Users\\Bodian\\OneDrive\\PYTHON\\lib\\site-packages\\sklearn\\linear_model\\coordinate_descent.py:475: ConvergenceWarning: Objective did not converge. You might want to increase the number of iterations. Duality gap: 1.4950677109126491, tolerance: 0.0003922729756992689\n",
      "  positive)\n",
      "C:\\Users\\Bodian\\OneDrive\\PYTHON\\lib\\site-packages\\sklearn\\linear_model\\coordinate_descent.py:475: ConvergenceWarning: Objective did not converge. You might want to increase the number of iterations. Duality gap: 1.4681530324547438, tolerance: 0.0003715184205052297\n",
      "  positive)\n",
      "C:\\Users\\Bodian\\OneDrive\\PYTHON\\lib\\site-packages\\sklearn\\linear_model\\coordinate_descent.py:475: ConvergenceWarning: Objective did not converge. You might want to increase the number of iterations. Duality gap: 1.5117884061239089, tolerance: 0.0003793023724488836\n",
      "  positive)\n",
      "C:\\Users\\Bodian\\OneDrive\\PYTHON\\lib\\site-packages\\sklearn\\linear_model\\coordinate_descent.py:475: ConvergenceWarning: Objective did not converge. You might want to increase the number of iterations. Duality gap: 1.4389961298905065, tolerance: 0.0003519333594836212\n",
      "  positive)\n",
      "C:\\Users\\Bodian\\OneDrive\\PYTHON\\lib\\site-packages\\sklearn\\linear_model\\coordinate_descent.py:475: ConvergenceWarning: Objective did not converge. You might want to increase the number of iterations. Duality gap: 1.3907387996232696, tolerance: 0.0003533484525187073\n",
      "  positive)\n",
      "C:\\Users\\Bodian\\OneDrive\\PYTHON\\lib\\site-packages\\sklearn\\linear_model\\coordinate_descent.py:475: ConvergenceWarning: Objective did not converge. You might want to increase the number of iterations. Duality gap: 1.4894876256094982, tolerance: 0.00038081794113787004\n",
      "  positive)\n",
      "C:\\Users\\Bodian\\OneDrive\\PYTHON\\lib\\site-packages\\sklearn\\linear_model\\coordinate_descent.py:475: ConvergenceWarning: Objective did not converge. You might want to increase the number of iterations. Duality gap: 1.487316070658957, tolerance: 0.00037718002791136784\n",
      "  positive)\n",
      "C:\\Users\\Bodian\\OneDrive\\PYTHON\\lib\\site-packages\\sklearn\\linear_model\\coordinate_descent.py:475: ConvergenceWarning: Objective did not converge. You might want to increase the number of iterations. Duality gap: 1.334801330770744, tolerance: 0.0003719892849371932\n",
      "  positive)\n",
      "C:\\Users\\Bodian\\OneDrive\\PYTHON\\lib\\site-packages\\sklearn\\linear_model\\coordinate_descent.py:475: ConvergenceWarning: Objective did not converge. You might want to increase the number of iterations. Duality gap: 1.46670816581014, tolerance: 0.0003749734222865311\n",
      "  positive)\n",
      "C:\\Users\\Bodian\\OneDrive\\PYTHON\\lib\\site-packages\\sklearn\\linear_model\\coordinate_descent.py:475: ConvergenceWarning: Objective did not converge. You might want to increase the number of iterations. Duality gap: 1.3950073655129602, tolerance: 0.00036158236001053776\n",
      "  positive)\n",
      "C:\\Users\\Bodian\\OneDrive\\PYTHON\\lib\\site-packages\\sklearn\\linear_model\\coordinate_descent.py:475: ConvergenceWarning: Objective did not converge. You might want to increase the number of iterations. Duality gap: 1.394570118061412, tolerance: 0.0003399457435924181\n",
      "  positive)\n",
      "C:\\Users\\Bodian\\OneDrive\\PYTHON\\lib\\site-packages\\sklearn\\linear_model\\coordinate_descent.py:475: ConvergenceWarning: Objective did not converge. You might want to increase the number of iterations. Duality gap: 1.509294770235302, tolerance: 0.00038225511631795155\n",
      "  positive)\n",
      "C:\\Users\\Bodian\\OneDrive\\PYTHON\\lib\\site-packages\\sklearn\\linear_model\\coordinate_descent.py:475: ConvergenceWarning: Objective did not converge. You might want to increase the number of iterations. Duality gap: 1.4692302859678035, tolerance: 0.0003491126429711619\n",
      "  positive)\n",
      "C:\\Users\\Bodian\\OneDrive\\PYTHON\\lib\\site-packages\\sklearn\\linear_model\\coordinate_descent.py:475: ConvergenceWarning: Objective did not converge. You might want to increase the number of iterations. Duality gap: 1.53735956749631, tolerance: 0.00038333897620980087\n",
      "  positive)\n",
      "C:\\Users\\Bodian\\OneDrive\\PYTHON\\lib\\site-packages\\sklearn\\linear_model\\coordinate_descent.py:475: ConvergenceWarning: Objective did not converge. You might want to increase the number of iterations. Duality gap: 1.4701274110030773, tolerance: 0.0003771239087883089\n",
      "  positive)\n",
      "C:\\Users\\Bodian\\OneDrive\\PYTHON\\lib\\site-packages\\sklearn\\linear_model\\coordinate_descent.py:475: ConvergenceWarning: Objective did not converge. You might want to increase the number of iterations. Duality gap: 1.4960810080503681, tolerance: 0.0003922729756992689\n",
      "  positive)\n",
      "C:\\Users\\Bodian\\OneDrive\\PYTHON\\lib\\site-packages\\sklearn\\linear_model\\coordinate_descent.py:475: ConvergenceWarning: Objective did not converge. You might want to increase the number of iterations. Duality gap: 1.4692379310593722, tolerance: 0.0003715184205052297\n",
      "  positive)\n",
      "C:\\Users\\Bodian\\OneDrive\\PYTHON\\lib\\site-packages\\sklearn\\linear_model\\coordinate_descent.py:475: ConvergenceWarning: Objective did not converge. You might want to increase the number of iterations. Duality gap: 1.5130183482215767, tolerance: 0.0003793023724488836\n",
      "  positive)\n",
      "C:\\Users\\Bodian\\OneDrive\\PYTHON\\lib\\site-packages\\sklearn\\linear_model\\coordinate_descent.py:475: ConvergenceWarning: Objective did not converge. You might want to increase the number of iterations. Duality gap: 1.4399016928376411, tolerance: 0.0003519333594836212\n",
      "  positive)\n",
      "C:\\Users\\Bodian\\OneDrive\\PYTHON\\lib\\site-packages\\sklearn\\linear_model\\coordinate_descent.py:475: ConvergenceWarning: Objective did not converge. You might want to increase the number of iterations. Duality gap: 1.3917903323606733, tolerance: 0.0003533484525187073\n",
      "  positive)\n",
      "C:\\Users\\Bodian\\OneDrive\\PYTHON\\lib\\site-packages\\sklearn\\linear_model\\coordinate_descent.py:475: ConvergenceWarning: Objective did not converge. You might want to increase the number of iterations. Duality gap: 1.4908488136751763, tolerance: 0.00038081794113787004\n",
      "  positive)\n"
     ]
    },
    {
     "name": "stderr",
     "output_type": "stream",
     "text": [
      "C:\\Users\\Bodian\\OneDrive\\PYTHON\\lib\\site-packages\\sklearn\\linear_model\\coordinate_descent.py:475: ConvergenceWarning: Objective did not converge. You might want to increase the number of iterations. Duality gap: 1.488467858127485, tolerance: 0.00037718002791136784\n",
      "  positive)\n",
      "C:\\Users\\Bodian\\OneDrive\\PYTHON\\lib\\site-packages\\sklearn\\linear_model\\coordinate_descent.py:475: ConvergenceWarning: Objective did not converge. You might want to increase the number of iterations. Duality gap: 1.3360843045915953, tolerance: 0.0003719892849371932\n",
      "  positive)\n",
      "C:\\Users\\Bodian\\OneDrive\\PYTHON\\lib\\site-packages\\sklearn\\linear_model\\coordinate_descent.py:475: ConvergenceWarning: Objective did not converge. You might want to increase the number of iterations. Duality gap: 1.4675753288448492, tolerance: 0.0003749734222865311\n",
      "  positive)\n",
      "C:\\Users\\Bodian\\OneDrive\\PYTHON\\lib\\site-packages\\sklearn\\linear_model\\coordinate_descent.py:475: ConvergenceWarning: Objective did not converge. You might want to increase the number of iterations. Duality gap: 1.3962334029766617, tolerance: 0.00036158236001053776\n",
      "  positive)\n",
      "C:\\Users\\Bodian\\OneDrive\\PYTHON\\lib\\site-packages\\sklearn\\linear_model\\coordinate_descent.py:475: ConvergenceWarning: Objective did not converge. You might want to increase the number of iterations. Duality gap: 1.3953391713725056, tolerance: 0.0003399457435924181\n",
      "  positive)\n",
      "C:\\Users\\Bodian\\OneDrive\\PYTHON\\lib\\site-packages\\sklearn\\linear_model\\coordinate_descent.py:475: ConvergenceWarning: Objective did not converge. You might want to increase the number of iterations. Duality gap: 1.5104288788963534, tolerance: 0.00038225511631795155\n",
      "  positive)\n",
      "C:\\Users\\Bodian\\OneDrive\\PYTHON\\lib\\site-packages\\sklearn\\linear_model\\coordinate_descent.py:475: ConvergenceWarning: Objective did not converge. You might want to increase the number of iterations. Duality gap: 1.4703029209976184, tolerance: 0.0003491126429711619\n",
      "  positive)\n",
      "C:\\Users\\Bodian\\OneDrive\\PYTHON\\lib\\site-packages\\sklearn\\linear_model\\coordinate_descent.py:475: ConvergenceWarning: Objective did not converge. You might want to increase the number of iterations. Duality gap: 1.5384618741918408, tolerance: 0.00038333897620980087\n",
      "  positive)\n",
      "C:\\Users\\Bodian\\OneDrive\\PYTHON\\lib\\site-packages\\sklearn\\linear_model\\coordinate_descent.py:475: ConvergenceWarning: Objective did not converge. You might want to increase the number of iterations. Duality gap: 1.4712282534640528, tolerance: 0.0003771239087883089\n",
      "  positive)\n",
      "C:\\Users\\Bodian\\OneDrive\\PYTHON\\lib\\site-packages\\sklearn\\linear_model\\coordinate_descent.py:475: ConvergenceWarning: Objective did not converge. You might want to increase the number of iterations. Duality gap: 1.505870381901441, tolerance: 0.0003922729756992689\n",
      "  positive)\n",
      "C:\\Users\\Bodian\\OneDrive\\PYTHON\\lib\\site-packages\\sklearn\\linear_model\\coordinate_descent.py:475: ConvergenceWarning: Objective did not converge. You might want to increase the number of iterations. Duality gap: 1.4798016892493395, tolerance: 0.0003715184205052297\n",
      "  positive)\n",
      "C:\\Users\\Bodian\\OneDrive\\PYTHON\\lib\\site-packages\\sklearn\\linear_model\\coordinate_descent.py:475: ConvergenceWarning: Objective did not converge. You might want to increase the number of iterations. Duality gap: 1.5250266857501975, tolerance: 0.0003793023724488836\n",
      "  positive)\n",
      "C:\\Users\\Bodian\\OneDrive\\PYTHON\\lib\\site-packages\\sklearn\\linear_model\\coordinate_descent.py:475: ConvergenceWarning: Objective did not converge. You might want to increase the number of iterations. Duality gap: 1.4486475279224447, tolerance: 0.0003519333594836212\n",
      "  positive)\n",
      "C:\\Users\\Bodian\\OneDrive\\PYTHON\\lib\\site-packages\\sklearn\\linear_model\\coordinate_descent.py:475: ConvergenceWarning: Objective did not converge. You might want to increase the number of iterations. Duality gap: 1.401984874350687, tolerance: 0.0003533484525187073\n",
      "  positive)\n",
      "C:\\Users\\Bodian\\OneDrive\\PYTHON\\lib\\site-packages\\sklearn\\linear_model\\coordinate_descent.py:475: ConvergenceWarning: Objective did not converge. You might want to increase the number of iterations. Duality gap: 1.50413815748603, tolerance: 0.00038081794113787004\n",
      "  positive)\n",
      "C:\\Users\\Bodian\\OneDrive\\PYTHON\\lib\\site-packages\\sklearn\\linear_model\\coordinate_descent.py:475: ConvergenceWarning: Objective did not converge. You might want to increase the number of iterations. Duality gap: 1.4997067265426838, tolerance: 0.00037718002791136784\n",
      "  positive)\n",
      "C:\\Users\\Bodian\\OneDrive\\PYTHON\\lib\\site-packages\\sklearn\\linear_model\\coordinate_descent.py:475: ConvergenceWarning: Objective did not converge. You might want to increase the number of iterations. Duality gap: 1.3485468502081481, tolerance: 0.0003719892849371932\n",
      "  positive)\n",
      "C:\\Users\\Bodian\\OneDrive\\PYTHON\\lib\\site-packages\\sklearn\\linear_model\\coordinate_descent.py:475: ConvergenceWarning: Objective did not converge. You might want to increase the number of iterations. Duality gap: 1.4759315208312864, tolerance: 0.0003749734222865311\n",
      "  positive)\n",
      "C:\\Users\\Bodian\\OneDrive\\PYTHON\\lib\\site-packages\\sklearn\\linear_model\\coordinate_descent.py:475: ConvergenceWarning: Objective did not converge. You might want to increase the number of iterations. Duality gap: 1.4081863563849526, tolerance: 0.00036158236001053776\n",
      "  positive)\n",
      "C:\\Users\\Bodian\\OneDrive\\PYTHON\\lib\\site-packages\\sklearn\\linear_model\\coordinate_descent.py:475: ConvergenceWarning: Objective did not converge. You might want to increase the number of iterations. Duality gap: 1.4027750395179224, tolerance: 0.0003399457435924181\n",
      "  positive)\n",
      "C:\\Users\\Bodian\\OneDrive\\PYTHON\\lib\\site-packages\\sklearn\\linear_model\\coordinate_descent.py:475: ConvergenceWarning: Objective did not converge. You might want to increase the number of iterations. Duality gap: 1.5214818334939229, tolerance: 0.00038225511631795155\n",
      "  positive)\n",
      "C:\\Users\\Bodian\\OneDrive\\PYTHON\\lib\\site-packages\\sklearn\\linear_model\\coordinate_descent.py:475: ConvergenceWarning: Objective did not converge. You might want to increase the number of iterations. Duality gap: 1.4807407187082007, tolerance: 0.0003491126429711619\n",
      "  positive)\n",
      "C:\\Users\\Bodian\\OneDrive\\PYTHON\\lib\\site-packages\\sklearn\\linear_model\\coordinate_descent.py:475: ConvergenceWarning: Objective did not converge. You might want to increase the number of iterations. Duality gap: 1.549199454406851, tolerance: 0.00038333897620980087\n",
      "  positive)\n",
      "C:\\Users\\Bodian\\OneDrive\\PYTHON\\lib\\site-packages\\sklearn\\linear_model\\coordinate_descent.py:475: ConvergenceWarning: Objective did not converge. You might want to increase the number of iterations. Duality gap: 1.4819606857975771, tolerance: 0.0003771239087883089\n",
      "  positive)\n",
      "C:\\Users\\Bodian\\OneDrive\\PYTHON\\lib\\site-packages\\sklearn\\linear_model\\coordinate_descent.py:475: ConvergenceWarning: Objective did not converge. You might want to increase the number of iterations. Duality gap: 1.51507495384938, tolerance: 0.0003922729756992689\n",
      "  positive)\n",
      "C:\\Users\\Bodian\\OneDrive\\PYTHON\\lib\\site-packages\\sklearn\\linear_model\\coordinate_descent.py:475: ConvergenceWarning: Objective did not converge. You might want to increase the number of iterations. Duality gap: 1.4898470534773196, tolerance: 0.0003715184205052297\n",
      "  positive)\n",
      "C:\\Users\\Bodian\\OneDrive\\PYTHON\\lib\\site-packages\\sklearn\\linear_model\\coordinate_descent.py:475: ConvergenceWarning: Objective did not converge. You might want to increase the number of iterations. Duality gap: 1.536457740808389, tolerance: 0.0003793023724488836\n",
      "  positive)\n",
      "C:\\Users\\Bodian\\OneDrive\\PYTHON\\lib\\site-packages\\sklearn\\linear_model\\coordinate_descent.py:475: ConvergenceWarning: Objective did not converge. You might want to increase the number of iterations. Duality gap: 1.4568665932475613, tolerance: 0.0003519333594836212\n",
      "  positive)\n",
      "C:\\Users\\Bodian\\OneDrive\\PYTHON\\lib\\site-packages\\sklearn\\linear_model\\coordinate_descent.py:475: ConvergenceWarning: Objective did not converge. You might want to increase the number of iterations. Duality gap: 1.4116300101300263, tolerance: 0.0003533484525187073\n",
      "  positive)\n",
      "C:\\Users\\Bodian\\OneDrive\\PYTHON\\lib\\site-packages\\sklearn\\linear_model\\coordinate_descent.py:475: ConvergenceWarning: Objective did not converge. You might want to increase the number of iterations. Duality gap: 1.5168236893498321, tolerance: 0.00038081794113787004\n",
      "  positive)\n",
      "C:\\Users\\Bodian\\OneDrive\\PYTHON\\lib\\site-packages\\sklearn\\linear_model\\coordinate_descent.py:475: ConvergenceWarning: Objective did not converge. You might want to increase the number of iterations. Duality gap: 1.5104034430153999, tolerance: 0.00037718002791136784\n",
      "  positive)\n",
      "C:\\Users\\Bodian\\OneDrive\\PYTHON\\lib\\site-packages\\sklearn\\linear_model\\coordinate_descent.py:475: ConvergenceWarning: Objective did not converge. You might want to increase the number of iterations. Duality gap: 1.360465887815173, tolerance: 0.0003719892849371932\n",
      "  positive)\n",
      "C:\\Users\\Bodian\\OneDrive\\PYTHON\\lib\\site-packages\\sklearn\\linear_model\\coordinate_descent.py:475: ConvergenceWarning: Objective did not converge. You might want to increase the number of iterations. Duality gap: 1.483726587506051, tolerance: 0.0003749734222865311\n",
      "  positive)\n",
      "C:\\Users\\Bodian\\OneDrive\\PYTHON\\lib\\site-packages\\sklearn\\linear_model\\coordinate_descent.py:475: ConvergenceWarning: Objective did not converge. You might want to increase the number of iterations. Duality gap: 1.4195898514541123, tolerance: 0.00036158236001053776\n",
      "  positive)\n",
      "C:\\Users\\Bodian\\OneDrive\\PYTHON\\lib\\site-packages\\sklearn\\linear_model\\coordinate_descent.py:475: ConvergenceWarning: Objective did not converge. You might want to increase the number of iterations. Duality gap: 1.4097429900370164, tolerance: 0.0003399457435924181\n",
      "  positive)\n",
      "C:\\Users\\Bodian\\OneDrive\\PYTHON\\lib\\site-packages\\sklearn\\linear_model\\coordinate_descent.py:475: ConvergenceWarning: Objective did not converge. You might want to increase the number of iterations. Duality gap: 1.532011315549685, tolerance: 0.00038225511631795155\n",
      "  positive)\n",
      "C:\\Users\\Bodian\\OneDrive\\PYTHON\\lib\\site-packages\\sklearn\\linear_model\\coordinate_descent.py:475: ConvergenceWarning: Objective did not converge. You might want to increase the number of iterations. Duality gap: 1.4906239588738057, tolerance: 0.0003491126429711619\n",
      "  positive)\n",
      "C:\\Users\\Bodian\\OneDrive\\PYTHON\\lib\\site-packages\\sklearn\\linear_model\\coordinate_descent.py:475: ConvergenceWarning: Objective did not converge. You might want to increase the number of iterations. Duality gap: 1.5593844399540588, tolerance: 0.00038333897620980087\n",
      "  positive)\n",
      "C:\\Users\\Bodian\\OneDrive\\PYTHON\\lib\\site-packages\\sklearn\\linear_model\\coordinate_descent.py:475: ConvergenceWarning: Objective did not converge. You might want to increase the number of iterations. Duality gap: 1.4921905331171759, tolerance: 0.0003771239087883089\n",
      "  positive)\n",
      "C:\\Users\\Bodian\\OneDrive\\PYTHON\\lib\\site-packages\\sklearn\\linear_model\\coordinate_descent.py:475: ConvergenceWarning: Objective did not converge. You might want to increase the number of iterations. Duality gap: 1.564316769792146, tolerance: 0.0003922729756992689\n",
      "  positive)\n",
      "C:\\Users\\Bodian\\OneDrive\\PYTHON\\lib\\site-packages\\sklearn\\linear_model\\coordinate_descent.py:475: ConvergenceWarning: Objective did not converge. You might want to increase the number of iterations. Duality gap: 1.5456081826460626, tolerance: 0.0003715184205052297\n",
      "  positive)\n",
      "C:\\Users\\Bodian\\OneDrive\\PYTHON\\lib\\site-packages\\sklearn\\linear_model\\coordinate_descent.py:475: ConvergenceWarning: Objective did not converge. You might want to increase the number of iterations. Duality gap: 1.600265161541757, tolerance: 0.0003793023724488836\n",
      "  positive)\n",
      "C:\\Users\\Bodian\\OneDrive\\PYTHON\\lib\\site-packages\\sklearn\\linear_model\\coordinate_descent.py:475: ConvergenceWarning: Objective did not converge. You might want to increase the number of iterations. Duality gap: 1.4986811424625295, tolerance: 0.0003519333594836212\n",
      "  positive)\n",
      "C:\\Users\\Bodian\\OneDrive\\PYTHON\\lib\\site-packages\\sklearn\\linear_model\\coordinate_descent.py:475: ConvergenceWarning: Objective did not converge. You might want to increase the number of iterations. Duality gap: 1.4632453940612726, tolerance: 0.0003533484525187073\n",
      "  positive)\n",
      "C:\\Users\\Bodian\\OneDrive\\PYTHON\\lib\\site-packages\\sklearn\\linear_model\\coordinate_descent.py:475: ConvergenceWarning: Objective did not converge. You might want to increase the number of iterations. Duality gap: 1.5886784106570846, tolerance: 0.00038081794113787004\n",
      "  positive)\n",
      "C:\\Users\\Bodian\\OneDrive\\PYTHON\\lib\\site-packages\\sklearn\\linear_model\\coordinate_descent.py:475: ConvergenceWarning: Objective did not converge. You might want to increase the number of iterations. Duality gap: 1.5698901838146715, tolerance: 0.00037718002791136784\n",
      "  positive)\n",
      "C:\\Users\\Bodian\\OneDrive\\PYTHON\\lib\\site-packages\\sklearn\\linear_model\\coordinate_descent.py:475: ConvergenceWarning: Objective did not converge. You might want to increase the number of iterations. Duality gap: 1.4272102080391929, tolerance: 0.0003719892849371932\n",
      "  positive)\n",
      "C:\\Users\\Bodian\\OneDrive\\PYTHON\\lib\\site-packages\\sklearn\\linear_model\\coordinate_descent.py:475: ConvergenceWarning: Objective did not converge. You might want to increase the number of iterations. Duality gap: 1.5235544139530885, tolerance: 0.0003749734222865311\n",
      "  positive)\n",
      "C:\\Users\\Bodian\\OneDrive\\PYTHON\\lib\\site-packages\\sklearn\\linear_model\\coordinate_descent.py:475: ConvergenceWarning: Objective did not converge. You might want to increase the number of iterations. Duality gap: 1.4833077039133042, tolerance: 0.00036158236001053776\n",
      "  positive)\n",
      "C:\\Users\\Bodian\\OneDrive\\PYTHON\\lib\\site-packages\\sklearn\\linear_model\\coordinate_descent.py:475: ConvergenceWarning: Objective did not converge. You might want to increase the number of iterations. Duality gap: 1.4454143446474308, tolerance: 0.0003399457435924181\n",
      "  positive)\n",
      "C:\\Users\\Bodian\\OneDrive\\PYTHON\\lib\\site-packages\\sklearn\\linear_model\\coordinate_descent.py:475: ConvergenceWarning: Objective did not converge. You might want to increase the number of iterations. Duality gap: 1.5910555219909388, tolerance: 0.00038225511631795155\n",
      "  positive)\n",
      "C:\\Users\\Bodian\\OneDrive\\PYTHON\\lib\\site-packages\\sklearn\\linear_model\\coordinate_descent.py:475: ConvergenceWarning: Objective did not converge. You might want to increase the number of iterations. Duality gap: 1.5440454933426422, tolerance: 0.0003491126429711619\n",
      "  positive)\n",
      "C:\\Users\\Bodian\\OneDrive\\PYTHON\\lib\\site-packages\\sklearn\\linear_model\\coordinate_descent.py:475: ConvergenceWarning: Objective did not converge. You might want to increase the number of iterations. Duality gap: 1.6161083568377208, tolerance: 0.00038333897620980087\n",
      "  positive)\n",
      "C:\\Users\\Bodian\\OneDrive\\PYTHON\\lib\\site-packages\\sklearn\\linear_model\\coordinate_descent.py:475: ConvergenceWarning: Objective did not converge. You might want to increase the number of iterations. Duality gap: 1.5497384512907189, tolerance: 0.0003771239087883089\n",
      "  positive)\n",
      "C:\\Users\\Bodian\\OneDrive\\PYTHON\\lib\\site-packages\\sklearn\\linear_model\\coordinate_descent.py:475: ConvergenceWarning: Objective did not converge. You might want to increase the number of iterations. Duality gap: 1.6044109209005513, tolerance: 0.0003922729756992689\n",
      "  positive)\n",
      "C:\\Users\\Bodian\\OneDrive\\PYTHON\\lib\\site-packages\\sklearn\\linear_model\\coordinate_descent.py:475: ConvergenceWarning: Objective did not converge. You might want to increase the number of iterations. Duality gap: 1.5826393164650745, tolerance: 0.0003715184205052297\n",
      "  positive)\n",
      "C:\\Users\\Bodian\\OneDrive\\PYTHON\\lib\\site-packages\\sklearn\\linear_model\\coordinate_descent.py:475: ConvergenceWarning: Objective did not converge. You might want to increase the number of iterations. Duality gap: 1.6547184177482221, tolerance: 0.0003793023724488836\n",
      "  positive)\n",
      "C:\\Users\\Bodian\\OneDrive\\PYTHON\\lib\\site-packages\\sklearn\\linear_model\\coordinate_descent.py:475: ConvergenceWarning: Objective did not converge. You might want to increase the number of iterations. Duality gap: 1.5314106503335438, tolerance: 0.0003519333594836212\n",
      "  positive)\n",
      "C:\\Users\\Bodian\\OneDrive\\PYTHON\\lib\\site-packages\\sklearn\\linear_model\\coordinate_descent.py:475: ConvergenceWarning: Objective did not converge. You might want to increase the number of iterations. Duality gap: 1.4998604496642922, tolerance: 0.0003533484525187073\n",
      "  positive)\n",
      "C:\\Users\\Bodian\\OneDrive\\PYTHON\\lib\\site-packages\\sklearn\\linear_model\\coordinate_descent.py:475: ConvergenceWarning: Objective did not converge. You might want to increase the number of iterations. Duality gap: 1.6499931050731353, tolerance: 0.00038081794113787004\n",
      "  positive)\n",
      "C:\\Users\\Bodian\\OneDrive\\PYTHON\\lib\\site-packages\\sklearn\\linear_model\\coordinate_descent.py:475: ConvergenceWarning: Objective did not converge. You might want to increase the number of iterations. Duality gap: 1.6136513765223588, tolerance: 0.00037718002791136784\n",
      "  positive)\n",
      "C:\\Users\\Bodian\\OneDrive\\PYTHON\\lib\\site-packages\\sklearn\\linear_model\\coordinate_descent.py:475: ConvergenceWarning: Objective did not converge. You might want to increase the number of iterations. Duality gap: 1.4905060349026682, tolerance: 0.0003719892849371932\n",
      "  positive)\n",
      "C:\\Users\\Bodian\\OneDrive\\PYTHON\\lib\\site-packages\\sklearn\\linear_model\\coordinate_descent.py:475: ConvergenceWarning: Objective did not converge. You might want to increase the number of iterations. Duality gap: 1.5501730795405073, tolerance: 0.0003749734222865311\n",
      "  positive)\n"
     ]
    },
    {
     "name": "stderr",
     "output_type": "stream",
     "text": [
      "C:\\Users\\Bodian\\OneDrive\\PYTHON\\lib\\site-packages\\sklearn\\linear_model\\coordinate_descent.py:475: ConvergenceWarning: Objective did not converge. You might want to increase the number of iterations. Duality gap: 1.5366463873832825, tolerance: 0.00036158236001053776\n",
      "  positive)\n",
      "C:\\Users\\Bodian\\OneDrive\\PYTHON\\lib\\site-packages\\sklearn\\linear_model\\coordinate_descent.py:475: ConvergenceWarning: Objective did not converge. You might want to increase the number of iterations. Duality gap: 1.463543682529876, tolerance: 0.0003399457435924181\n",
      "  positive)\n",
      "C:\\Users\\Bodian\\OneDrive\\PYTHON\\lib\\site-packages\\sklearn\\linear_model\\coordinate_descent.py:475: ConvergenceWarning: Objective did not converge. You might want to increase the number of iterations. Duality gap: 1.6378941183277935, tolerance: 0.00038225511631795155\n",
      "  positive)\n",
      "C:\\Users\\Bodian\\OneDrive\\PYTHON\\lib\\site-packages\\sklearn\\linear_model\\coordinate_descent.py:475: ConvergenceWarning: Objective did not converge. You might want to increase the number of iterations. Duality gap: 1.5799100678001794, tolerance: 0.0003491126429711619\n",
      "  positive)\n",
      "C:\\Users\\Bodian\\OneDrive\\PYTHON\\lib\\site-packages\\sklearn\\linear_model\\coordinate_descent.py:475: ConvergenceWarning: Objective did not converge. You might want to increase the number of iterations. Duality gap: 1.6619116273210686, tolerance: 0.00038333897620980087\n",
      "  positive)\n",
      "C:\\Users\\Bodian\\OneDrive\\PYTHON\\lib\\site-packages\\sklearn\\linear_model\\coordinate_descent.py:475: ConvergenceWarning: Objective did not converge. You might want to increase the number of iterations. Duality gap: 1.596598892883392, tolerance: 0.0003771239087883089\n",
      "  positive)\n",
      "C:\\Users\\Bodian\\OneDrive\\PYTHON\\lib\\site-packages\\sklearn\\linear_model\\coordinate_descent.py:475: ConvergenceWarning: Objective did not converge. You might want to increase the number of iterations. Duality gap: 1.6539040248309085, tolerance: 0.0003922729756992689\n",
      "  positive)\n",
      "C:\\Users\\Bodian\\OneDrive\\PYTHON\\lib\\site-packages\\sklearn\\linear_model\\coordinate_descent.py:475: ConvergenceWarning: Objective did not converge. You might want to increase the number of iterations. Duality gap: 1.570575125678752, tolerance: 0.0003715184205052297\n",
      "  positive)\n",
      "C:\\Users\\Bodian\\OneDrive\\PYTHON\\lib\\site-packages\\sklearn\\linear_model\\coordinate_descent.py:475: ConvergenceWarning: Objective did not converge. You might want to increase the number of iterations. Duality gap: 1.6612324522173787, tolerance: 0.0003793023724488836\n",
      "  positive)\n",
      "C:\\Users\\Bodian\\OneDrive\\PYTHON\\lib\\site-packages\\sklearn\\linear_model\\coordinate_descent.py:475: ConvergenceWarning: Objective did not converge. You might want to increase the number of iterations. Duality gap: 1.553546787734519, tolerance: 0.0003519333594836212\n",
      "  positive)\n",
      "C:\\Users\\Bodian\\OneDrive\\PYTHON\\lib\\site-packages\\sklearn\\linear_model\\coordinate_descent.py:475: ConvergenceWarning: Objective did not converge. You might want to increase the number of iterations. Duality gap: 1.5047326146880438, tolerance: 0.0003533484525187073\n",
      "  positive)\n",
      "C:\\Users\\Bodian\\OneDrive\\PYTHON\\lib\\site-packages\\sklearn\\linear_model\\coordinate_descent.py:475: ConvergenceWarning: Objective did not converge. You might want to increase the number of iterations. Duality gap: 1.648863208152549, tolerance: 0.00038081794113787004\n",
      "  positive)\n",
      "C:\\Users\\Bodian\\OneDrive\\PYTHON\\lib\\site-packages\\sklearn\\linear_model\\coordinate_descent.py:475: ConvergenceWarning: Objective did not converge. You might want to increase the number of iterations. Duality gap: 1.613644337961342, tolerance: 0.00037718002791136784\n",
      "  positive)\n",
      "C:\\Users\\Bodian\\OneDrive\\PYTHON\\lib\\site-packages\\sklearn\\linear_model\\coordinate_descent.py:475: ConvergenceWarning: Objective did not converge. You might want to increase the number of iterations. Duality gap: 1.5342346438296683, tolerance: 0.0003719892849371932\n",
      "  positive)\n",
      "C:\\Users\\Bodian\\OneDrive\\PYTHON\\lib\\site-packages\\sklearn\\linear_model\\coordinate_descent.py:475: ConvergenceWarning: Objective did not converge. You might want to increase the number of iterations. Duality gap: 1.5540554263732997, tolerance: 0.0003749734222865311\n",
      "  positive)\n",
      "C:\\Users\\Bodian\\OneDrive\\PYTHON\\lib\\site-packages\\sklearn\\linear_model\\coordinate_descent.py:475: ConvergenceWarning: Objective did not converge. You might want to increase the number of iterations. Duality gap: 1.5395217849799858, tolerance: 0.00036158236001053776\n",
      "  positive)\n",
      "C:\\Users\\Bodian\\OneDrive\\PYTHON\\lib\\site-packages\\sklearn\\linear_model\\coordinate_descent.py:475: ConvergenceWarning: Objective did not converge. You might want to increase the number of iterations. Duality gap: 1.4650410731139474, tolerance: 0.0003399457435924181\n",
      "  positive)\n",
      "C:\\Users\\Bodian\\OneDrive\\PYTHON\\lib\\site-packages\\sklearn\\linear_model\\coordinate_descent.py:475: ConvergenceWarning: Objective did not converge. You might want to increase the number of iterations. Duality gap: 1.646333906478267, tolerance: 0.00038225511631795155\n",
      "  positive)\n",
      "C:\\Users\\Bodian\\OneDrive\\PYTHON\\lib\\site-packages\\sklearn\\linear_model\\coordinate_descent.py:475: ConvergenceWarning: Objective did not converge. You might want to increase the number of iterations. Duality gap: 1.5836986156773167, tolerance: 0.0003491126429711619\n",
      "  positive)\n",
      "C:\\Users\\Bodian\\OneDrive\\PYTHON\\lib\\site-packages\\sklearn\\linear_model\\coordinate_descent.py:475: ConvergenceWarning: Objective did not converge. You might want to increase the number of iterations. Duality gap: 1.6521072882125005, tolerance: 0.00038333897620980087\n",
      "  positive)\n",
      "C:\\Users\\Bodian\\OneDrive\\PYTHON\\lib\\site-packages\\sklearn\\linear_model\\coordinate_descent.py:475: ConvergenceWarning: Objective did not converge. You might want to increase the number of iterations. Duality gap: 1.616024472193104, tolerance: 0.0003771239087883089\n",
      "  positive)\n",
      "C:\\Users\\Bodian\\OneDrive\\PYTHON\\lib\\site-packages\\sklearn\\linear_model\\coordinate_descent.py:475: ConvergenceWarning: Objective did not converge. You might want to increase the number of iterations. Duality gap: 1.269291600649628, tolerance: 0.0003922729756992689\n",
      "  positive)\n",
      "C:\\Users\\Bodian\\OneDrive\\PYTHON\\lib\\site-packages\\sklearn\\linear_model\\coordinate_descent.py:475: ConvergenceWarning: Objective did not converge. You might want to increase the number of iterations. Duality gap: 0.603589556826988, tolerance: 0.0003715184205052297\n",
      "  positive)\n",
      "C:\\Users\\Bodian\\OneDrive\\PYTHON\\lib\\site-packages\\sklearn\\linear_model\\coordinate_descent.py:475: ConvergenceWarning: Objective did not converge. You might want to increase the number of iterations. Duality gap: 0.7333677773714431, tolerance: 0.0003793023724488836\n",
      "  positive)\n",
      "C:\\Users\\Bodian\\OneDrive\\PYTHON\\lib\\site-packages\\sklearn\\linear_model\\coordinate_descent.py:475: ConvergenceWarning: Objective did not converge. You might want to increase the number of iterations. Duality gap: 0.5153016263686732, tolerance: 0.0003533484525187073\n",
      "  positive)\n",
      "C:\\Users\\Bodian\\OneDrive\\PYTHON\\lib\\site-packages\\sklearn\\linear_model\\coordinate_descent.py:475: ConvergenceWarning: Objective did not converge. You might want to increase the number of iterations. Duality gap: 0.7750501919209445, tolerance: 0.00038081794113787004\n",
      "  positive)\n",
      "C:\\Users\\Bodian\\OneDrive\\PYTHON\\lib\\site-packages\\sklearn\\linear_model\\coordinate_descent.py:475: ConvergenceWarning: Objective did not converge. You might want to increase the number of iterations. Duality gap: 0.09902879376640694, tolerance: 0.00037718002791136784\n",
      "  positive)\n",
      "C:\\Users\\Bodian\\OneDrive\\PYTHON\\lib\\site-packages\\sklearn\\linear_model\\coordinate_descent.py:475: ConvergenceWarning: Objective did not converge. You might want to increase the number of iterations. Duality gap: 0.7895987988062968, tolerance: 0.0003719892849371932\n",
      "  positive)\n",
      "C:\\Users\\Bodian\\OneDrive\\PYTHON\\lib\\site-packages\\sklearn\\linear_model\\coordinate_descent.py:475: ConvergenceWarning: Objective did not converge. You might want to increase the number of iterations. Duality gap: 0.49185843221493153, tolerance: 0.0003749734222865311\n",
      "  positive)\n",
      "C:\\Users\\Bodian\\OneDrive\\PYTHON\\lib\\site-packages\\sklearn\\linear_model\\coordinate_descent.py:475: ConvergenceWarning: Objective did not converge. You might want to increase the number of iterations. Duality gap: 0.5125161282878044, tolerance: 0.00036158236001053776\n",
      "  positive)\n",
      "C:\\Users\\Bodian\\OneDrive\\PYTHON\\lib\\site-packages\\sklearn\\linear_model\\coordinate_descent.py:475: ConvergenceWarning: Objective did not converge. You might want to increase the number of iterations. Duality gap: 0.46285077564254506, tolerance: 0.0003399457435924181\n",
      "  positive)\n",
      "C:\\Users\\Bodian\\OneDrive\\PYTHON\\lib\\site-packages\\sklearn\\linear_model\\coordinate_descent.py:475: ConvergenceWarning: Objective did not converge. You might want to increase the number of iterations. Duality gap: 0.60923684839268, tolerance: 0.00038225511631795155\n",
      "  positive)\n",
      "C:\\Users\\Bodian\\OneDrive\\PYTHON\\lib\\site-packages\\sklearn\\linear_model\\coordinate_descent.py:475: ConvergenceWarning: Objective did not converge. You might want to increase the number of iterations. Duality gap: 0.15098826351762984, tolerance: 0.0003491126429711619\n",
      "  positive)\n",
      "C:\\Users\\Bodian\\OneDrive\\PYTHON\\lib\\site-packages\\sklearn\\linear_model\\coordinate_descent.py:475: ConvergenceWarning: Objective did not converge. You might want to increase the number of iterations. Duality gap: 0.8059366037596938, tolerance: 0.0003771239087883089\n",
      "  positive)\n"
     ]
    },
    {
     "name": "stdout",
     "output_type": "stream",
     "text": [
      "The best value of Alpha is: {'alpha': 100}\n"
     ]
    },
    {
     "name": "stderr",
     "output_type": "stream",
     "text": [
      "C:\\Users\\Bodian\\OneDrive\\PYTHON\\lib\\site-packages\\sklearn\\model_selection\\_search.py:814: DeprecationWarning: The default of the `iid` parameter will change from True to False in version 0.22 and will be removed in 0.24. This will change numeric results when test-set sizes are unequal.\n",
      "  DeprecationWarning)\n"
     ]
    }
   ],
   "source": [
    "## Laso\n",
    "from sklearn.linear_model import Lasso\n",
    "\n",
    "parameters= {'alpha':[0.0001,0.0009,0.001,0.002,0.003,0.01,0.1,1,10,100]}\n",
    "\n",
    "\n",
    "lasso=Lasso()\n",
    "lasso_reg=ms.GridSearchCV(lasso, param_grid=parameters, scoring='neg_mean_squared_error', cv=15)\n",
    "lasso_reg.fit(x_train,y_train)\n",
    "\n",
    "\n",
    "print(f'The best value of Alpha is: {lasso_reg.best_params_}')"
   ]
  },
  {
   "cell_type": "code",
   "execution_count": 10,
   "metadata": {},
   "outputs": [],
   "source": [
    "def score(y_pred):\n",
    "    return str(math.sqrt(sklm.mean_squared_error(y_test, y_pred)))\n"
   ]
  },
  {
   "cell_type": "code",
   "execution_count": 15,
   "metadata": {},
   "outputs": [
    {
     "name": "stdout",
     "output_type": "stream",
     "text": [
      "r2_score train  0.20632827995872416\n",
      "r2_score test  -0.11737348343527754\n"
     ]
    },
    {
     "name": "stderr",
     "output_type": "stream",
     "text": [
      "C:\\Users\\Bodian\\OneDrive\\PYTHON\\lib\\site-packages\\sklearn\\linear_model\\coordinate_descent.py:475: ConvergenceWarning: Objective did not converge. You might want to increase the number of iterations. Duality gap: 1.5733663650171763, tolerance: 0.00039647787230997046\n",
      "  positive)\n"
     ]
    }
   ],
   "source": [
    "from sklearn.metrics import r2_score\n",
    "\n",
    "\n",
    "lasso_mod=Lasso(alpha= 0.000000000001)\n",
    "lasso_mod.fit(x_train_tf,y_train)\n",
    "y_lasso_train=lasso_mod.predict(x_train_tf)\n",
    "y_lasso_test=lasso_mod.predict(x_valid_tf)\n",
    "\n",
    "print(f'r2_score train  {r2_score(y_train, y_lasso_train)}')\n",
    "print(f'r2_score test  {r2_score(y_valid, y_lasso_test)}')"
   ]
  },
  {
   "cell_type": "code",
   "execution_count": null,
   "metadata": {},
   "outputs": [],
   "source": []
  }
 ],
 "metadata": {
  "kernelspec": {
   "display_name": "Python 3",
   "language": "python",
   "name": "python3"
  },
  "language_info": {
   "codemirror_mode": {
    "name": "ipython",
    "version": 3
   },
   "file_extension": ".py",
   "mimetype": "text/x-python",
   "name": "python",
   "nbconvert_exporter": "python",
   "pygments_lexer": "ipython3",
   "version": "3.7.4"
  }
 },
 "nbformat": 4,
 "nbformat_minor": 2
}
