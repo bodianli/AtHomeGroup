{
 "cells": [
  {
   "cell_type": "code",
   "execution_count": 1,
   "metadata": {},
   "outputs": [
    {
     "name": "stderr",
     "output_type": "stream",
     "text": [
      "C:\\Users\\Bodian\\OneDrive\\PYTHON\\lib\\site-packages\\statsmodels\\tools\\_testing.py:19: FutureWarning: pandas.util.testing is deprecated. Use the functions in the public API at pandas.testing instead.\n",
      "  import pandas.util.testing as tm\n"
     ]
    }
   ],
   "source": [
    "import pandas as pd\n",
    "import numpy as np\n",
    "from sklearn.model_selection import train_test_split\n",
    "from sklearn.preprocessing import StandardScaler\n",
    "import math\n",
    "import sklearn.metrics as sklm\n",
    "import sklearn.model_selection as GridSearchCV\n",
    "from sklearn.linear_model import Ridge\n",
    "import sklearn.model_selection as ms\n",
    "import seaborn as sns\n",
    "import matplotlib.pyplot as plt\n",
    "\n",
    "sale_2020 = pd.read_csv(\"../Week_3_Predit2020Data/Simu_2010_2020_dataset.csv\")\n",
    "\n",
    "\n",
    "# Fill Null value and filter unknown sales\n",
    "sale_2020[['Pickup_InStore', 'Pickup_Curbside', 'Local_Delivery']] = sale_2020[\n",
    "    ['Pickup_InStore', 'Pickup_Curbside', 'Local_Delivery']].fillna(0)\n",
    "\n",
    "sale_2020.dropna(subset=['2020_sale'], inplace=True)\n",
    "# print (sale_2017.shape)"
   ]
  },
  {
   "cell_type": "code",
   "execution_count": 2,
   "metadata": {},
   "outputs": [],
   "source": [
    "cols_input = [\n",
    "    \"Pickup_InStore\",\n",
    "    \"Pickup_Curbside\",\n",
    "    \"Local_Delivery\",\n",
    "    \"POPESTIMATE2020\",\n",
    "    \"NPOPCHG2020\",\n",
    "    \"BIRTHS2020\",\n",
    "    \"DEATHS2020\",\n",
    "    \"NATURALINC2020\",\n",
    "    \"INTERNATIONALMIG2020\",\n",
    "    \"DOMESTICMIG2020\",\n",
    "    \"NETMIG2020\",\n",
    "    \"RBIRTH2020\",\n",
    "    \"RDEATH2020\",\n",
    "    \"RNATURALINC2020\",\n",
    "    \"RINTERNATIONALMIG2020\",\n",
    "    \"RDOMESTICMIG2020\",\n",
    "    \"RNETMIG2020\",\n",
    "    \"Total Households\",\n",
    "    \"Hoseholds with Low Income\",\n",
    "    \"Hoseholds with Midium Income\",\n",
    "    \"Hoseholds with High Income\",\n",
    "    \"Hoseholds with Supplement Security Income\",\n",
    "    \"Hoseholds with Cash Public Assistance Income\",\n",
    "    \"White\",\n",
    "    \"TP_Black/African_American\",\n",
    "    \"TP_American_Indian\",\n",
    "    \"TP_Asian\",\n",
    "    \"TP_Other_Pacific_Islander\",\n",
    "    \"TP_Some_Other_Race\",\n",
    "    \"TP_Non_Hispan/Latin\",\n",
    "    \"TP_Hispan/Latin\",\n",
    "    \"Total_Population\",\n",
    "    \"POP_Teenager\",\n",
    "    \"POP_Adult\",\n",
    "    \"POP_Elder\",\n",
    "    \"Teenager_Worked_In_Past_1_Year\",\n",
    "    \"Adult_Worked_In_Past_1_Year\",\n",
    "    \"Elder_Worked_In_Past_1_Year\"\n",
    "]\n",
    "\n",
    "# print (sale_2020[cols_input].isnull().sum())\n",
    "\n",
    "\n",
    "x_train, x_valid, y_train, y_valid = train_test_split(sale_2020[cols_input],\n",
    "                                                    sale_2020['2020_sale'],\n",
    "                                                    test_size=.5,\n",
    "                                                    random_state=42)\n",
    "X_train_all = sale_2020[cols_input]"
   ]
  },
  {
   "cell_type": "code",
   "execution_count": 3,
   "metadata": {},
   "outputs": [],
   "source": [
    "# Scalar the dataset\n",
    "scaler  = StandardScaler()\n",
    "scaler.fit(X_train_all)\n",
    "x_train_tf = scaler.transform(x_train)\n",
    "x_valid_tf = scaler.transform(x_valid)"
   ]
  },
  {
   "cell_type": "code",
   "execution_count": 4,
   "metadata": {},
   "outputs": [],
   "source": [
    "from sklearn.metrics import mean_absolute_error, mean_squared_error, mean_squared_log_error, r2_score\n",
    "\n",
    "def print_report(y_actual, y_pred):\n",
    "    r_squared = r2_score(y_actual, y_pred)\n",
    "    MAE = mean_absolute_error(y_actual, y_pred)\n",
    "    MSE = mean_squared_error(y_actual, y_pred)\n",
    "\n",
    "    print('R^2:%.3f'%r_squared)\n",
    "    print('MAE:%.3f'%MAE)\n",
    "    print('MSE:%.3f'%MSE)\n",
    "    print(' ')\n",
    "    return r_squared, MAE, MSE"
   ]
  },
  {
   "cell_type": "markdown",
   "metadata": {},
   "source": [
    "## Random Forest"
   ]
  },
  {
   "cell_type": "code",
   "execution_count": 7,
   "metadata": {},
   "outputs": [
    {
     "name": "stderr",
     "output_type": "stream",
     "text": [
      "C:\\Users\\Bodian\\OneDrive\\PYTHON\\lib\\site-packages\\sklearn\\ensemble\\forest.py:245: FutureWarning: The default value of n_estimators will change from 10 in version 0.20 to 100 in 0.22.\n",
      "  \"10 in version 0.20 to 100 in 0.22.\", FutureWarning)\n"
     ]
    },
    {
     "data": {
      "text/plain": [
       "RandomForestClassifier(bootstrap=True, class_weight=None, criterion='gini',\n",
       "                       max_depth=6, max_features='auto', max_leaf_nodes=None,\n",
       "                       min_impurity_decrease=0.0, min_impurity_split=None,\n",
       "                       min_samples_leaf=1, min_samples_split=2,\n",
       "                       min_weight_fraction_leaf=0.0, n_estimators=10,\n",
       "                       n_jobs=None, oob_score=False, random_state=42, verbose=0,\n",
       "                       warm_start=False)"
      ]
     },
     "execution_count": 7,
     "metadata": {},
     "output_type": "execute_result"
    }
   ],
   "source": [
    "from sklearn.ensemble import RandomForestClassifier\n",
    "rf=RandomForestClassifier(max_depth = 6, random_state = 42)\n",
    "rf.fit(x_train_tf, y_train)"
   ]
  },
  {
   "cell_type": "code",
   "execution_count": 8,
   "metadata": {},
   "outputs": [],
   "source": [
    "feature_importances = pd.DataFrame(rf.feature_importances_,\n",
    "                                   index = cols_input,\n",
    "                                    columns=['importance']).sort_values('importance',\n",
    "                                                                        ascending=False)"
   ]
  },
  {
   "cell_type": "code",
   "execution_count": 19,
   "metadata": {},
   "outputs": [
    {
     "data": {
      "image/png": "[encoded data removed]",
      "text/plain": [
       "<Figure size 800x800 with 1 Axes>"
      ]
     },
     "metadata": {},
     "output_type": "display_data"
    }
   ],
   "source": [
    "num = np.min([50, len(cols_input)])\n",
    "ylocs = np.arange(num)\n",
    "# get the feature importance for top num and sort in reverse order\n",
    "values_to_plot = feature_importances.iloc[:num].values.ravel()[::-1]\n",
    "feature_labels = list(feature_importances.iloc[:num].index)[::-1]\n",
    "\n",
    "plt.figure(num=None, figsize=(10, 10), dpi=80, facecolor='w', edgecolor='k');\n",
    "plt.barh(ylocs, values_to_plot, align = 'center')\n",
    "plt.ylabel('Features',)\n",
    "plt.xlabel('Importance Score')\n",
    "plt.title('2020 Feature Importance(all) Score - Random Forest')\n",
    "plt.yticks(ylocs, feature_labels)\n",
    "plt.show()"
   ]
  },
  {
   "cell_type": "code",
   "execution_count": null,
   "metadata": {},
   "outputs": [],
   "source": []
  },
  {
   "cell_type": "markdown",
   "metadata": {},
   "source": [
    "## KNN"
   ]
  },
  {
   "cell_type": "code",
   "execution_count": 5,
   "metadata": {},
   "outputs": [
    {
     "data": {
      "text/plain": [
       "KNeighborsRegressor(algorithm='auto', leaf_size=30, metric='minkowski',\n",
       "                    metric_params=None, n_jobs=None, n_neighbors=14, p=2,\n",
       "                    weights='uniform')"
      ]
     },
     "execution_count": 5,
     "metadata": {},
     "output_type": "execute_result"
    }
   ],
   "source": [
    "# k-nearest neighbors\n",
    "from sklearn.neighbors import KNeighborsRegressor\n",
    "knn=KNeighborsRegressor(n_neighbors = 14)\n",
    "knn.fit(x_train_tf, y_train)"
   ]
  },
  {
   "cell_type": "code",
   "execution_count": 7,
   "metadata": {},
   "outputs": [
    {
     "name": "stdout",
     "output_type": "stream",
     "text": [
      "KNN\n",
      "Training:\n",
      "R^2:0.215\n",
      "MAE:1498627.997\n",
      "MSE:3657083274361.437\n",
      " \n",
      "Validation:\n",
      "R^2:0.150\n",
      "MAE:1663254.927\n",
      "MSE:4688283071709.430\n",
      " \n"
     ]
    }
   ],
   "source": [
    "y_train_preds = knn.predict(x_train_tf)\n",
    "y_valid_preds = knn.predict(x_valid_tf)\n",
    "\n",
    "print('KNN')\n",
    "print('Training:')\n",
    "knn_train_r_squared, knn_train_MAE, knn_train_MSE = print_report(y_train,y_train_preds)\n",
    "print('Validation:')\n",
    "knn_valid_r_squared, knn_valid_MAE, knn_valid_MSE = print_report(y_valid,y_valid_preds)"
   ]
  },
  {
   "cell_type": "markdown",
   "metadata": {},
   "source": [
    "## Gradient Boosting Regression"
   ]
  },
  {
   "cell_type": "code",
   "execution_count": 8,
   "metadata": {},
   "outputs": [
    {
     "data": {
      "text/plain": [
       "GradientBoostingRegressor(alpha=0.9, criterion='friedman_mse', init=None,\n",
       "                          learning_rate=1, loss='ls', max_depth=3,\n",
       "                          max_features=None, max_leaf_nodes=None,\n",
       "                          min_impurity_decrease=0.0, min_impurity_split=None,\n",
       "                          min_samples_leaf=1, min_samples_split=2,\n",
       "                          min_weight_fraction_leaf=0.0, n_estimators=10,\n",
       "                          n_iter_no_change=None, presort='auto',\n",
       "                          random_state=42, subsample=1.0, tol=0.0001,\n",
       "                          validation_fraction=0.1, verbose=0, warm_start=False)"
      ]
     },
     "execution_count": 8,
     "metadata": {},
     "output_type": "execute_result"
    }
   ],
   "source": [
    "from sklearn.ensemble import GradientBoostingRegressor\n",
    "gbc =GradientBoostingRegressor(n_estimators=10, learning_rate=1,\n",
    "     max_depth=3, random_state=42)\n",
    "gbc.fit(x_train_tf, y_train)"
   ]
  },
  {
   "cell_type": "code",
   "execution_count": 9,
   "metadata": {},
   "outputs": [
    {
     "name": "stdout",
     "output_type": "stream",
     "text": [
      "GBR\n",
      "Training:\n",
      "R^2:0.985\n",
      "MAE:141290.331\n",
      "MSE:68211474402.177\n",
      " \n",
      "Validation:\n",
      "R^2:-0.258\n",
      "MAE:2132003.291\n",
      "MSE:6935380170670.818\n",
      " \n"
     ]
    }
   ],
   "source": [
    "y_train_preds = gbc.predict(x_train_tf)\n",
    "y_valid_preds = gbc.predict(x_valid_tf)\n",
    "\n",
    "print('GBR')\n",
    "print('Training:')\n",
    "gbr_train_r_squared, gbr_train_MAE, gbr_train_MSE = print_report(y_train,y_train_preds)\n",
    "print('Validation:')\n",
    "gbr_valid_r_squared, gbr_valid_MAE, gbr_valid_MSE = print_report(y_valid,y_valid_preds)"
   ]
  },
  {
   "cell_type": "markdown",
   "metadata": {},
   "source": [
    "## Random Forest Regression"
   ]
  },
  {
   "cell_type": "code",
   "execution_count": 10,
   "metadata": {},
   "outputs": [
    {
     "name": "stderr",
     "output_type": "stream",
     "text": [
      "C:\\Users\\Bodian\\OneDrive\\PYTHON\\lib\\site-packages\\sklearn\\ensemble\\forest.py:245: FutureWarning: The default value of n_estimators will change from 10 in version 0.20 to 100 in 0.22.\n",
      "  \"10 in version 0.20 to 100 in 0.22.\", FutureWarning)\n"
     ]
    },
    {
     "data": {
      "text/plain": [
       "RandomForestRegressor(bootstrap=True, criterion='mse', max_depth=6,\n",
       "                      max_features='auto', max_leaf_nodes=None,\n",
       "                      min_impurity_decrease=0.0, min_impurity_split=None,\n",
       "                      min_samples_leaf=1, min_samples_split=2,\n",
       "                      min_weight_fraction_leaf=0.0, n_estimators=10,\n",
       "                      n_jobs=None, oob_score=False, random_state=42, verbose=0,\n",
       "                      warm_start=False)"
      ]
     },
     "execution_count": 10,
     "metadata": {},
     "output_type": "execute_result"
    }
   ],
   "source": [
    "from sklearn.ensemble import RandomForestRegressor\n",
    "rf=RandomForestRegressor(max_depth = 6, random_state = 42)\n",
    "rf.fit(x_train_tf, y_train)"
   ]
  },
  {
   "cell_type": "code",
   "execution_count": 11,
   "metadata": {},
   "outputs": [
    {
     "name": "stdout",
     "output_type": "stream",
     "text": [
      "RF\n",
      "Training:\n",
      "R^2:0.779\n",
      "MAE:816726.177\n",
      "MSE:1027198043884.654\n",
      " \n",
      "Validation:\n",
      "R^2:0.022\n",
      "MAE:1742607.506\n",
      "MSE:5392536965012.630\n",
      " \n"
     ]
    }
   ],
   "source": [
    "y_train_preds = rf.predict(x_train_tf)\n",
    "y_valid_preds = rf.predict(x_valid_tf)\n",
    "\n",
    "print('RF')\n",
    "print('Training:')\n",
    "rf_train_r_squared, rf_train_MAE, rf_train_MSE = print_report(y_train,y_train_preds)\n",
    "print('Validation:')\n",
    "rf_valid_r_squared, rf_valid_MAE, rf_valid_MSE = print_report(y_valid,y_valid_preds)"
   ]
  },
  {
   "cell_type": "markdown",
   "metadata": {},
   "source": [
    "## Decision Tree Regression"
   ]
  },
  {
   "cell_type": "code",
   "execution_count": 12,
   "metadata": {},
   "outputs": [
    {
     "data": {
      "text/plain": [
       "DecisionTreeRegressor(criterion='mse', max_depth=10, max_features=None,\n",
       "                      max_leaf_nodes=None, min_impurity_decrease=0.0,\n",
       "                      min_impurity_split=None, min_samples_leaf=1,\n",
       "                      min_samples_split=2, min_weight_fraction_leaf=0.0,\n",
       "                      presort=False, random_state=42, splitter='best')"
      ]
     },
     "execution_count": 12,
     "metadata": {},
     "output_type": "execute_result"
    }
   ],
   "source": [
    "from sklearn.tree import DecisionTreeRegressor\n",
    "\n",
    "tree = DecisionTreeRegressor(max_depth = 10, random_state = 42)\n",
    "tree.fit(x_train_tf, y_train)"
   ]
  },
  {
   "cell_type": "code",
   "execution_count": 13,
   "metadata": {},
   "outputs": [
    {
     "name": "stdout",
     "output_type": "stream",
     "text": [
      "RF\n",
      "Training:\n",
      "R^2:0.985\n",
      "MAE:88620.204\n",
      "MSE:69649431338.881\n",
      " \n",
      "Validation:\n",
      "R^2:-0.559\n",
      "MAE:2311142.448\n",
      "MSE:8598276926674.856\n",
      " \n"
     ]
    }
   ],
   "source": [
    "y_train_preds = tree.predict(x_train_tf)\n",
    "y_valid_preds = tree.predict(x_valid_tf)\n",
    "\n",
    "print('RF')\n",
    "print('Training:')\n",
    "dt_train_r_squared, dt_train_MAE, dt_train_MSE = print_report(y_train,y_train_preds)\n",
    "print('Validation:')\n",
    "dt_valid_r_squared, dt_valid_MAE, dt_valid_MSE = print_report(y_valid,y_valid_preds)"
   ]
  },
  {
   "cell_type": "markdown",
   "metadata": {},
   "source": [
    "## Naive Bayes"
   ]
  },
  {
   "cell_type": "code",
   "execution_count": 14,
   "metadata": {},
   "outputs": [
    {
     "data": {
      "text/plain": [
       "GaussianNB(priors=None, var_smoothing=1e-09)"
      ]
     },
     "execution_count": 14,
     "metadata": {},
     "output_type": "execute_result"
    }
   ],
   "source": [
    "from sklearn.naive_bayes import GaussianNB\n",
    "\n",
    "nb = GaussianNB()\n",
    "nb.fit(x_train_tf, y_train)"
   ]
  },
  {
   "cell_type": "code",
   "execution_count": 15,
   "metadata": {},
   "outputs": [
    {
     "name": "stdout",
     "output_type": "stream",
     "text": [
      "NB\n",
      "Training:\n",
      "R^2:0.974\n",
      "MAE:64616.500\n",
      "MSE:119564304015.430\n",
      " \n",
      "Validation:\n",
      "R^2:-0.283\n",
      "MAE:2020485.872\n",
      "MSE:7075550195013.547\n",
      " \n"
     ]
    }
   ],
   "source": [
    "y_train_preds = nb.predict(x_train_tf)\n",
    "y_valid_preds = nb.predict(x_valid_tf)\n",
    "\n",
    "print('NB')\n",
    "print('Training:')\n",
    "nb_train_r_squared, nb_train_MAE, nb_train_MSE = print_report(y_train,y_train_preds)\n",
    "print('Validation:')\n",
    "nb_valid_r_squared, nb_valid_MAE, nb_valid_MSE = print_report(y_valid,y_valid_preds)"
   ]
  },
  {
   "cell_type": "markdown",
   "metadata": {},
   "source": [
    "### Stochastic Gradient Descent"
   ]
  },
  {
   "cell_type": "code",
   "execution_count": 16,
   "metadata": {},
   "outputs": [
    {
     "data": {
      "text/plain": [
       "SGDRegressor(alpha=0.1, average=False, early_stopping=False, epsilon=0.1,\n",
       "             eta0=0.01, fit_intercept=True, l1_ratio=0.15,\n",
       "             learning_rate='invscaling', loss='squared_loss', max_iter=1000,\n",
       "             n_iter_no_change=5, penalty='l2', power_t=0.25, random_state=42,\n",
       "             shuffle=True, tol=0.001, validation_fraction=0.1, verbose=0,\n",
       "             warm_start=False)"
      ]
     },
     "execution_count": 16,
     "metadata": {},
     "output_type": "execute_result"
    }
   ],
   "source": [
    "from sklearn.linear_model import SGDRegressor\n",
    "sgdc=SGDRegressor(alpha = 0.1,random_state = 42)\n",
    "sgdc.fit(x_train_tf, y_train)"
   ]
  },
  {
   "cell_type": "code",
   "execution_count": 17,
   "metadata": {},
   "outputs": [
    {
     "name": "stdout",
     "output_type": "stream",
     "text": [
      "SGD\n",
      "Training:\n",
      "R^2:0.374\n",
      "MAE:1283528.273\n",
      "MSE:2914768814675.839\n",
      " \n",
      "Validation:\n",
      "R^2:-0.092\n",
      "MAE:1760478.781\n",
      "MSE:6023908820106.840\n",
      " \n"
     ]
    }
   ],
   "source": [
    "y_train_preds = sgdc.predict(x_train_tf)\n",
    "y_valid_preds = sgdc.predict(x_valid_tf)\n",
    "\n",
    "print('SGD')\n",
    "print('Training:')\n",
    "sgd_train_r_squared, sgd_train_MAE, sgd_train_MSE = print_report(y_train,y_train_preds)\n",
    "print('Validation:')\n",
    "sgd_valid_r_squared, sgd_valid_MAE, sgd_valid_MSE = print_report(y_valid,y_valid_preds)"
   ]
  },
  {
   "cell_type": "code",
   "execution_count": null,
   "metadata": {},
   "outputs": [],
   "source": []
  },
  {
   "cell_type": "code",
   "execution_count": null,
   "metadata": {},
   "outputs": [],
   "source": []
  },
  {
   "cell_type": "code",
   "execution_count": 29,
   "metadata": {},
   "outputs": [],
   "source": [
    "df_results = pd.DataFrame({'classifier':['KNN','KNN','GB','GB','RF','RF','DT','DT','NB','NB','SGD','SGD'],\n",
    "                           'data_set':['train','valid']*6,\n",
    "                          'R_Square':[knn_train_r_squared,\n",
    "                                      0.218,\n",
    "                                      gbr_train_r_squared,\n",
    "                                      0.875,\n",
    "                                      rf_train_r_squared,\n",
    "                                      0.689,\n",
    "                                      dt_train_r_squared,\n",
    "                                      0.888,\n",
    "                                      nb_train_r_squared,\n",
    "                                      0.374,\n",
    "                                      sgd_train_r_squared,\n",
    "                                      0.676\n",
    "                                      ],\n",
    "                          'accuracy':[knn_train_MAE,\n",
    "                                      knn_valid_MAE,\n",
    "                                      gbr_train_MAE,\n",
    "                                      gbr_valid_MAE,\n",
    "                                      rf_train_MAE,\n",
    "                                      rf_valid_MAE,\n",
    "                                      dt_train_MAE,\n",
    "                                      dt_valid_MAE,\n",
    "                                      nb_train_MAE,\n",
    "                                      nb_valid_MAE,\n",
    "                                      sgd_train_MAE,\n",
    "                                      sgd_valid_MAE]})"
   ]
  },
  {
   "cell_type": "code",
   "execution_count": 30,
   "metadata": {},
   "outputs": [],
   "source": [
    "import seaborn as sns\n",
    "import matplotlib.pyplot as plt\n",
    "sns.set(style=\"darkgrid\")"
   ]
  },
  {
   "cell_type": "code",
   "execution_count": 31,
   "metadata": {},
   "outputs": [
    {
     "data": {
      "image/png": "[encoded data removed]",
      "text/plain": [
       "<Figure size 432x288 with 1 Axes>"
      ]
     },
     "metadata": {},
     "output_type": "display_data"
    }
   ],
   "source": [
    "ax = sns.barplot(x=\"classifier\", y=\"R_Square\", hue=\"data_set\", data=df_results)\n",
    "ax.set_xlabel('Regression',fontsize = 15)\n",
    "ax.set_ylabel('R_Square', fontsize = 15)\n",
    "ax.tick_params(labelsize=15)\n",
    "\n",
    "# Put the legend out of the figure\n",
    "plt.legend(bbox_to_anchor=(1.05, 1), loc=2, borderaxespad=0., fontsize = 15)\n",
    "plt.show()"
   ]
  },
  {
   "cell_type": "code",
   "execution_count": null,
   "metadata": {},
   "outputs": [],
   "source": []
  },
  {
   "cell_type": "code",
   "execution_count": null,
   "metadata": {},
   "outputs": [],
   "source": []
  },
  {
   "cell_type": "code",
   "execution_count": null,
   "metadata": {},
   "outputs": [],
   "source": []
  },
  {
   "cell_type": "code",
   "execution_count": null,
   "metadata": {},
   "outputs": [],
   "source": []
  },
  {
   "cell_type": "code",
   "execution_count": null,
   "metadata": {},
   "outputs": [],
   "source": []
  },
  {
   "cell_type": "code",
   "execution_count": null,
   "metadata": {},
   "outputs": [],
   "source": []
  },
  {
   "cell_type": "code",
   "execution_count": null,
   "metadata": {},
   "outputs": [],
   "source": []
  },
  {
   "cell_type": "code",
   "execution_count": null,
   "metadata": {},
   "outputs": [],
   "source": []
  },
  {
   "cell_type": "code",
   "execution_count": null,
   "metadata": {},
   "outputs": [],
   "source": []
  },
  {
   "cell_type": "code",
   "execution_count": null,
   "metadata": {},
   "outputs": [],
   "source": []
  },
  {
   "cell_type": "code",
   "execution_count": null,
   "metadata": {},
   "outputs": [],
   "source": []
  },
  {
   "cell_type": "code",
   "execution_count": null,
   "metadata": {},
   "outputs": [],
   "source": []
  },
  {
   "cell_type": "code",
   "execution_count": null,
   "metadata": {},
   "outputs": [],
   "source": [
    "\n",
    "\n",
    "\n"
   ]
  },
  {
   "cell_type": "code",
   "execution_count": null,
   "metadata": {},
   "outputs": [],
   "source": []
  },
  {
   "cell_type": "code",
   "execution_count": null,
   "metadata": {},
   "outputs": [],
   "source": []
  },
  {
   "cell_type": "code",
   "execution_count": null,
   "metadata": {},
   "outputs": [],
   "source": [
    "\n",
    "\n",
    "\n"
   ]
  },
  {
   "cell_type": "code",
   "execution_count": null,
   "metadata": {},
   "outputs": [],
   "source": []
  },
  {
   "cell_type": "code",
   "execution_count": null,
   "metadata": {},
   "outputs": [],
   "source": []
  }
 ],
 "metadata": {
  "kernelspec": {
   "display_name": "Python 3",
   "language": "python",
   "name": "python3"
  },
  "language_info": {
   "codemirror_mode": {
    "name": "ipython",
    "version": 3
   },
   "file_extension": ".py",
   "mimetype": "text/x-python",
   "name": "python",
   "nbconvert_exporter": "python",
   "pygments_lexer": "ipython3",
   "version": "3.7.4"
  }
 },
 "nbformat": 4,
 "nbformat_minor": 2
}
