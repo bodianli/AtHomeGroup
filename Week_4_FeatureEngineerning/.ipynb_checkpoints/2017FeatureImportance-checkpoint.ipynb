{
 "cells": [
  {
   "cell_type": "code",
   "execution_count": 9,
   "metadata": {},
   "outputs": [
    {
     "name": "stderr",
     "output_type": "stream",
     "text": [
      "C:\\Users\\Bodian\\OneDrive\\PYTHON\\lib\\site-packages\\statsmodels\\tools\\_testing.py:19: FutureWarning: pandas.util.testing is deprecated. Use the functions in the public API at pandas.testing instead.\n",
      "  import pandas.util.testing as tm\n"
     ]
    }
   ],
   "source": [
    "import pandas as pd\n",
    "import numpy as np\n",
    "from sklearn.model_selection import train_test_split\n",
    "from sklearn.preprocessing import StandardScaler\n",
    "import math\n",
    "import sklearn.metrics as sklm\n",
    "import sklearn.model_selection as GridSearchCV\n",
    "from sklearn.linear_model import Ridge\n",
    "import sklearn.model_selection as ms\n",
    "import seaborn as sns\n",
    "import matplotlib.pyplot as plt\n",
    "\n",
    "sale_2017 = pd.read_csv(\"../Week_4_FeatureEngineerning/2017_Sale.csv\")\n",
    "\n",
    "\n",
    "# Fill Null value and filter unknown sales\n",
    "sale_2017[['Pickup_InStore', 'Pickup_Curbside', 'Local_Delivery']] = sale_2017[\n",
    "    ['Pickup_InStore', 'Pickup_Curbside', 'Local_Delivery']].fillna(0)\n",
    "\n",
    "sale_2017.dropna(subset=['2017_sale'], inplace=True)\n",
    "# print (sale_2017.shape)\n"
   ]
  },
  {
   "cell_type": "code",
   "execution_count": 178,
   "metadata": {},
   "outputs": [
    {
     "name": "stdout",
     "output_type": "stream",
     "text": [
      "Pickup_InStore           0\n",
      "Pickup_Curbside          0\n",
      "Local_Delivery           0\n",
      "POPESTIMATE2017          0\n",
      "NPOPCHG_2017             0\n",
      "BIRTHS2017               0\n",
      "DEATHS2017               0\n",
      "NATURALINC2017           0\n",
      "INTERNATIONALMIG2017     0\n",
      "DOMESTICMIG2017          0\n",
      "NETMIG2017               0\n",
      "RBIRTH2017               0\n",
      "RDEATH2017               0\n",
      "RNATURALINC2017          0\n",
      "RINTERNATIONALMIG2017    0\n",
      "RDOMESTICMIG2017         0\n",
      "RNETMIG2017              0\n",
      "dtype: int64\n"
     ]
    }
   ],
   "source": [
    "cols_input = [\n",
    "    \"Pickup_InStore\",\n",
    "    \"Pickup_Curbside\",\n",
    "    \"Local_Delivery\",\n",
    "    \"POPESTIMATE2017\",\n",
    "    \"NPOPCHG_2017\",\n",
    "    \"BIRTHS2017\",\n",
    "    \"DEATHS2017\",\n",
    "    \"NATURALINC2017\",\n",
    "    \"INTERNATIONALMIG2017\",\n",
    "    \"DOMESTICMIG2017\",\n",
    "    \"NETMIG2017\",\n",
    "    \"RBIRTH2017\",\n",
    "    \"RDEATH2017\",\n",
    "    \"RNATURALINC2017\",\n",
    "    \"RINTERNATIONALMIG2017\",\n",
    "    \"RDOMESTICMIG2017\",\n",
    "    \"RNETMIG2017\",\n",
    "]\n",
    "\n",
    "print (sale_2017[cols_input].isnull().sum())\n",
    "\n",
    "\n",
    "x_train, x_valid, y_train, y_valid = train_test_split(sale_2017[cols_input],\n",
    "                                                    sale_2017['2017_sale'],\n",
    "                                                    test_size=.3,\n",
    "                                                    random_state=42)\n",
    "X_train_all = sale_2017[cols_input]"
   ]
  },
  {
   "cell_type": "code",
   "execution_count": 179,
   "metadata": {},
   "outputs": [],
   "source": [
    "# Scalar the dataset\n",
    "scaler  = StandardScaler()\n",
    "scaler.fit(X_train_all)\n",
    "x_train_tf = scaler.transform(x_train)\n",
    "x_valid_tf = scaler.transform(x_valid)"
   ]
  },
  {
   "cell_type": "code",
   "execution_count": 180,
   "metadata": {},
   "outputs": [],
   "source": [
    "from sklearn.metrics import mean_absolute_error, mean_squared_error, mean_squared_log_error, r2_score\n",
    "\n",
    "def print_report(y_actual, y_pred):\n",
    "    r_squared = r2_score(y_actual, y_pred)\n",
    "    MAE = mean_absolute_error(y_actual, y_pred)\n",
    "    MSE = mean_squared_error(y_actual, y_pred)\n",
    "#    MSLE = mean_squared_log_error(y_actual, y_pred)\n",
    "    \n",
    "    print('R^2:%.3f'%r_squared)\n",
    "    print('MAE:%.3f'%MAE)\n",
    "    print('MSE:%.3f'%MSE)\n",
    "#    print('MSLE:%.3f'%MSLE)\n",
    "    print(' ')\n",
    "    return r_squared, MAE, MSE"
   ]
  },
  {
   "cell_type": "markdown",
   "metadata": {},
   "source": [
    "## KNN"
   ]
  },
  {
   "cell_type": "code",
   "execution_count": 188,
   "metadata": {},
   "outputs": [
    {
     "data": {
      "text/plain": [
       "KNeighborsRegressor(algorithm='auto', leaf_size=30, metric='minkowski',\n",
       "                    metric_params=None, n_jobs=None, n_neighbors=5, p=2,\n",
       "                    weights='distance')"
      ]
     },
     "execution_count": 188,
     "metadata": {},
     "output_type": "execute_result"
    }
   ],
   "source": [
    "from sklearn import neighbors\n",
    "knn= neighbors.KNeighborsRegressor(5, weights='distance')\n",
    "knn.fit(x_train_tf, y_train)"
   ]
  },
  {
   "cell_type": "code",
   "execution_count": 189,
   "metadata": {},
   "outputs": [
    {
     "name": "stdout",
     "output_type": "stream",
     "text": [
      "KNN\n",
      "Training:\n",
      "R^2:0.973\n",
      "MAE:228046.000\n",
      "MSE:322513252326.181\n",
      " \n",
      "Validation:\n",
      "R^2:-0.267\n",
      "MAE:2756776.607\n",
      "MSE:11432321429306.852\n",
      " \n"
     ]
    }
   ],
   "source": [
    "y_train_preds = knn.predict(x_train_tf)\n",
    "y_valid_preds = knn.predict(x_valid_tf)\n",
    "\n",
    "print('KNN')\n",
    "print('Training:')\n",
    "knn_train_r_squared, knn_train_MAE, knn_train_MSE = print_report(y_train,y_train_preds)\n",
    "print('Validation:')\n",
    "knn_valid_r_squared, knn_valid_MAE, knn_valid_MSE = print_report(y_valid,y_valid_preds)"
   ]
  },
  {
   "cell_type": "markdown",
   "metadata": {},
   "source": [
    "## Linear Regression"
   ]
  },
  {
   "cell_type": "code",
   "execution_count": 176,
   "metadata": {},
   "outputs": [
    {
     "data": {
      "text/plain": [
       "LinearRegression(copy_X=True, fit_intercept=True, n_jobs=None, normalize=False)"
      ]
     },
     "execution_count": 176,
     "metadata": {},
     "output_type": "execute_result"
    }
   ],
   "source": [
    "from sklearn.linear_model import LinearRegression\n",
    "lr=LinearRegression()\n",
    "lr.fit(x_train_tf, y_train)"
   ]
  },
  {
   "cell_type": "code",
   "execution_count": 177,
   "metadata": {},
   "outputs": [
    {
     "name": "stdout",
     "output_type": "stream",
     "text": [
      "Linear Regression\n",
      "Training:\n",
      "R^2:0.227\n",
      "MAE:2391715.229\n",
      "MSE:9166301487511.885\n",
      " \n",
      "Validation:\n",
      "R^2:-9.577\n",
      "MAE:4154096.367\n",
      "MSE:95423534154242.594\n",
      " \n"
     ]
    }
   ],
   "source": [
    "y_train_preds = lr.predict(x_train_tf)\n",
    "y_valid_preds = lr.predict(x_valid_tf)\n",
    "\n",
    "print('Linear Regression')\n",
    "\n",
    "print('Training:')\n",
    "lr_train_r_squared,lr_train_MAE,lr_train_MSE = print_report(y_train,y_train_preds)\n",
    "print('Validation:')\n",
    "lr_train_r_squared, lr_train_MAE,lr_train_MSE = print_report(y_valid,y_valid_preds)"
   ]
  },
  {
   "cell_type": "code",
   "execution_count": 156,
   "metadata": {},
   "outputs": [
    {
     "data": {
      "text/plain": [
       "array([10234596.37446676, 11002487.95853391,  9816577.82487393,\n",
       "        9851411.32430966, 13930126.61606218, 10054072.12616578,\n",
       "        9895528.5680385 ,  8524382.04080816, 10094229.93350222,\n",
       "       10157407.58378585, 11160616.97384618,  9591874.09741988,\n",
       "        9712192.15083357,  8323033.9107745 ,  6590636.53042062,\n",
       "        7535787.38792435,  9524833.22783497, 12224692.91775173,\n",
       "       11417306.90909337,  9161013.34220814,  6783537.71335429,\n",
       "        9134369.0924966 ,  9342989.14373199,  9595273.14336109,\n",
       "        9517309.00824563, 10168124.85003674,  9305680.20691745,\n",
       "       11282164.96031409,  9712192.15083357,  9628979.74552502,\n",
       "       10499771.50284289, 11151745.59863885,  9157152.16379186,\n",
       "        8770747.2271523 , 10070283.16765962,  6801330.64544784,\n",
       "        8472038.66263005,  8351502.78361185,  6305879.42551741,\n",
       "        8042344.73346574,  8770747.2271523 , 10750503.11777561,\n",
       "        9880407.01938554,  9829411.98025173,  9829411.98025173,\n",
       "        9715458.05796312, 10070283.16765962,  9902950.52469046,\n",
       "        8099923.46734417,  6714473.11595695,  7140085.46345788,\n",
       "        7979247.54782257, 10876683.15053271, 10124187.17811522,\n",
       "       12092552.46481563,  7880591.59436629, 11365505.73994061,\n",
       "        9180813.34870278,  7234044.89533837,  9526750.45722215,\n",
       "        7067773.3858796 , 10876683.15053271,  9200785.75605869,\n",
       "       15370429.99848399, 12121316.65232169,  9003083.89299396,\n",
       "        9404750.58513203,  8908577.51005331, 10157407.58378585,\n",
       "       11160616.97384618,  7156327.77966532, 11582419.87182848])"
      ]
     },
     "execution_count": 156,
     "metadata": {},
     "output_type": "execute_result"
    }
   ],
   "source": [
    "y_train_preds"
   ]
  },
  {
   "cell_type": "code",
   "execution_count": 157,
   "metadata": {},
   "outputs": [
    {
     "data": {
      "text/plain": [
       "32      7331485.0\n",
       "212    10082286.0\n",
       "114    10329866.0\n",
       "58     10257979.0\n",
       "128    11224223.0\n",
       "          ...    \n",
       "140     5562508.0\n",
       "35      8633910.0\n",
       "181    14719949.0\n",
       "110     7481912.0\n",
       "216     6426667.0\n",
       "Name: 2017_sale, Length: 72, dtype: float64"
      ]
     },
     "execution_count": 157,
     "metadata": {},
     "output_type": "execute_result"
    }
   ],
   "source": [
    "y_train"
   ]
  },
  {
   "cell_type": "markdown",
   "metadata": {},
   "source": [
    "## Logistic Regression"
   ]
  },
  {
   "cell_type": "code",
   "execution_count": 121,
   "metadata": {},
   "outputs": [
    {
     "name": "stderr",
     "output_type": "stream",
     "text": [
      "C:\\Users\\Bodian\\OneDrive\\PYTHON\\lib\\site-packages\\sklearn\\linear_model\\logistic.py:432: FutureWarning: Default solver will be changed to 'lbfgs' in 0.22. Specify a solver to silence this warning.\n",
      "  FutureWarning)\n",
      "C:\\Users\\Bodian\\OneDrive\\PYTHON\\lib\\site-packages\\sklearn\\linear_model\\logistic.py:469: FutureWarning: Default multi_class will be changed to 'auto' in 0.22. Specify the multi_class option to silence this warning.\n",
      "  \"this warning.\", FutureWarning)\n"
     ]
    },
    {
     "data": {
      "text/plain": [
       "LogisticRegression(C=1.0, class_weight=None, dual=False, fit_intercept=True,\n",
       "                   intercept_scaling=1, l1_ratio=None, max_iter=100,\n",
       "                   multi_class='warn', n_jobs=None, penalty='l2',\n",
       "                   random_state=42, solver='warn', tol=0.0001, verbose=0,\n",
       "                   warm_start=False)"
      ]
     },
     "execution_count": 121,
     "metadata": {},
     "output_type": "execute_result"
    }
   ],
   "source": [
    "from sklearn.linear_model import LogisticRegression\n",
    "lr=LogisticRegression(random_state = 42)\n",
    "lr.fit(x_train_tf, y_train)"
   ]
  },
  {
   "cell_type": "code",
   "execution_count": 122,
   "metadata": {},
   "outputs": [],
   "source": [
    "feature_importances = pd.DataFrame(lr.coef_[0],\n",
    "                                   index = cols_input,\n",
    "                                    columns=['importance']).sort_values('importance',\n",
    "                                                                        ascending=False)"
   ]
  },
  {
   "cell_type": "code",
   "execution_count": 123,
   "metadata": {
    "scrolled": true
   },
   "outputs": [
    {
     "data": {
      "text/html": [
       "<div>\n",
       "<style scoped>\n",
       "    .dataframe tbody tr th:only-of-type {\n",
       "        vertical-align: middle;\n",
       "    }\n",
       "\n",
       "    .dataframe tbody tr th {\n",
       "        vertical-align: top;\n",
       "    }\n",
       "\n",
       "    .dataframe thead th {\n",
       "        text-align: right;\n",
       "    }\n",
       "</style>\n",
       "<table border=\"1\" class=\"dataframe\">\n",
       "  <thead>\n",
       "    <tr style=\"text-align: right;\">\n",
       "      <th></th>\n",
       "      <th>importance</th>\n",
       "    </tr>\n",
       "  </thead>\n",
       "  <tbody>\n",
       "    <tr>\n",
       "      <th>RDOMESTICMIG2017</th>\n",
       "      <td>0.172149</td>\n",
       "    </tr>\n",
       "    <tr>\n",
       "      <th>RNETMIG2017</th>\n",
       "      <td>0.117728</td>\n",
       "    </tr>\n",
       "    <tr>\n",
       "      <th>RESIDUAL2017</th>\n",
       "      <td>0.097540</td>\n",
       "    </tr>\n",
       "    <tr>\n",
       "      <th>Local_Delivery</th>\n",
       "      <td>0.047953</td>\n",
       "    </tr>\n",
       "    <tr>\n",
       "      <th>DEATHS2017</th>\n",
       "      <td>0.033316</td>\n",
       "    </tr>\n",
       "  </tbody>\n",
       "</table>\n",
       "</div>"
      ],
      "text/plain": [
       "                  importance\n",
       "RDOMESTICMIG2017    0.172149\n",
       "RNETMIG2017         0.117728\n",
       "RESIDUAL2017        0.097540\n",
       "Local_Delivery      0.047953\n",
       "DEATHS2017          0.033316"
      ]
     },
     "execution_count": 123,
     "metadata": {},
     "output_type": "execute_result"
    }
   ],
   "source": [
    "feature_importances.head()"
   ]
  },
  {
   "cell_type": "code",
   "execution_count": 124,
   "metadata": {},
   "outputs": [
    {
     "data": {
      "image/png": "[encoded data removed]",
      "text/plain": [
       "<Figure size 640x1200 with 1 Axes>"
      ]
     },
     "metadata": {},
     "output_type": "display_data"
    }
   ],
   "source": [
    "num = np.min([50, len(cols_input)])\n",
    "ylocs = np.arange(num)\n",
    "# get the feature importance for top num and sort in reverse order\n",
    "values_to_plot = feature_importances.iloc[:num].values.ravel()[::-1]\n",
    "feature_labels = list(feature_importances.iloc[:num].index)[::-1]\n",
    "\n",
    "plt.figure(num=None, figsize=(8, 15), dpi=80, facecolor='w', edgecolor='k');\n",
    "plt.barh(ylocs, values_to_plot, align = 'center')\n",
    "plt.ylabel('Features')\n",
    "plt.xlabel('Importance Score')\n",
    "plt.title('Positive Feature Importance Score - Logistic Regression')\n",
    "plt.yticks(ylocs, feature_labels)\n",
    "plt.show()"
   ]
  },
  {
   "cell_type": "markdown",
   "metadata": {},
   "source": [
    "## Random Forest"
   ]
  },
  {
   "cell_type": "code",
   "execution_count": 128,
   "metadata": {},
   "outputs": [
    {
     "name": "stderr",
     "output_type": "stream",
     "text": [
      "C:\\Users\\Bodian\\OneDrive\\PYTHON\\lib\\site-packages\\sklearn\\ensemble\\forest.py:245: FutureWarning: The default value of n_estimators will change from 10 in version 0.20 to 100 in 0.22.\n",
      "  \"10 in version 0.20 to 100 in 0.22.\", FutureWarning)\n"
     ]
    },
    {
     "data": {
      "text/plain": [
       "RandomForestClassifier(bootstrap=True, class_weight=None, criterion='gini',\n",
       "                       max_depth=6, max_features='auto', max_leaf_nodes=None,\n",
       "                       min_impurity_decrease=0.0, min_impurity_split=None,\n",
       "                       min_samples_leaf=1, min_samples_split=2,\n",
       "                       min_weight_fraction_leaf=0.0, n_estimators=10,\n",
       "                       n_jobs=None, oob_score=False, random_state=42, verbose=0,\n",
       "                       warm_start=False)"
      ]
     },
     "execution_count": 128,
     "metadata": {},
     "output_type": "execute_result"
    }
   ],
   "source": [
    "from sklearn.ensemble import RandomForestClassifier\n",
    "rf=RandomForestClassifier(max_depth = 6, random_state = 42)\n",
    "rf.fit(x_train_tf, y_train)"
   ]
  },
  {
   "cell_type": "code",
   "execution_count": 131,
   "metadata": {},
   "outputs": [
    {
     "name": "stdout",
     "output_type": "stream",
     "text": [
      "Training:\n",
      "R^2:0.442\n",
      "MAE:1225539.472\n",
      "MSE:6611392630674.750\n",
      "MSLE:0.071\n",
      " \n",
      "Validation:\n",
      "R^2:-2.583\n",
      "MAE:4368342.968\n",
      "MSE:32319799748154.000\n",
      "MSLE:0.470\n",
      " \n"
     ]
    }
   ],
   "source": [
    "y_train_preds = rf.predict(x_train_tf)\n",
    "y_valid_preds = rf.predict(x_valid_tf)\n",
    "\n",
    "print('Training:')\n",
    "sgdc_train_r_squared,sgdc_train_MAE,sgdc_train_MSE, sgdc_train_MSLE = print_report(y_train,y_train_preds)\n",
    "print('Validation:')\n",
    "sgdc_train_r_squared, sgdc_train_MAE,sgdc_train_MSE, sgdc_train_MSLE = print_report(y_valid,y_valid_preds)"
   ]
  },
  {
   "cell_type": "code",
   "execution_count": null,
   "metadata": {},
   "outputs": [],
   "source": [
    "import sklearn.tree"
   ]
  },
  {
   "cell_type": "code",
   "execution_count": null,
   "metadata": {},
   "outputs": [],
   "source": []
  }
 ],
 "metadata": {
  "kernelspec": {
   "display_name": "Python 3",
   "language": "python",
   "name": "python3"
  },
  "language_info": {
   "codemirror_mode": {
    "name": "ipython",
    "version": 3
   },
   "file_extension": ".py",
   "mimetype": "text/x-python",
   "name": "python",
   "nbconvert_exporter": "python",
   "pygments_lexer": "ipython3",
   "version": "3.7.4"
  }
 },
 "nbformat": 4,
 "nbformat_minor": 2
}
